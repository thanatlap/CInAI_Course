{
 "cells": [
  {
   "cell_type": "markdown",
   "metadata": {},
   "source": [
    "# Keras Tutorial \n",
    "- See https://keras.io\n"
   ]
  },
  {
   "cell_type": "code",
   "execution_count": 2,
   "metadata": {},
   "outputs": [
    {
     "name": "stderr",
     "output_type": "stream",
     "text": [
      "Using TensorFlow backend.\n"
     ]
    },
    {
     "data": {
      "text/plain": [
       "'2.2.0'"
      ]
     },
     "execution_count": 2,
     "metadata": {},
     "output_type": "execute_result"
    }
   ],
   "source": [
    "import keras\n",
    "keras.__version__"
   ]
  },
  {
   "cell_type": "markdown",
   "metadata": {},
   "source": [
    "## 1. Dataset\n",
    "\n",
    "We will use a build-in data 'MNIST' which is a handwritten digit number image from 0 to 9"
   ]
  },
  {
   "cell_type": "code",
   "execution_count": 17,
   "metadata": {},
   "outputs": [],
   "source": [
    "from keras.datasets import mnist\n",
    "\n",
    "(train_images, train_labels), (test_images, test_labels) = mnist.load_data()"
   ]
  },
  {
   "cell_type": "markdown",
   "metadata": {},
   "source": [
    "### Type of dataset"
   ]
  },
  {
   "cell_type": "code",
   "execution_count": null,
   "metadata": {},
   "outputs": [],
   "source": [
    "print('Feature type: %s'%type(train_images))\n",
    "print('Label type: %s'%type(train_labels))"
   ]
  },
  {
   "cell_type": "markdown",
   "metadata": {},
   "source": [
    "### Type of value in the dataset"
   ]
  },
  {
   "cell_type": "code",
   "execution_count": null,
   "metadata": {},
   "outputs": [],
   "source": [
    "print('Feature data type: %s'%train_images.dtype)\n",
    "print('Label data type: %s'%train_labels.dtype)"
   ]
  },
  {
   "cell_type": "markdown",
   "metadata": {},
   "source": [
    "### Shape"
   ]
  },
  {
   "cell_type": "code",
   "execution_count": null,
   "metadata": {},
   "outputs": [],
   "source": [
    "print('Train_set Feature shape: %s'%str(train_images.shape))\n",
    "print('Train_set Label type: %s'%str(train_labels.shape))\n",
    "print('Test_set Feature shape: %s'%str(test_images.shape))\n",
    "print('Test_set Label type: %s'%str(test_labels.shape))"
   ]
  },
  {
   "cell_type": "markdown",
   "metadata": {},
   "source": [
    "### Dimension"
   ]
  },
  {
   "cell_type": "code",
   "execution_count": null,
   "metadata": {},
   "outputs": [],
   "source": [
    "print('Train_set Feature dimension: %s'%str(train_images.ndim))\n",
    "print('Train_set Label dimension: %s'%str(train_labels.ndim))\n",
    "print('Test_set Feature dimension: %s'%str(test_images.ndim))\n",
    "print('Test_set Label dimension: %s'%str(test_labels.ndim))"
   ]
  },
  {
   "cell_type": "markdown",
   "metadata": {},
   "source": [
    "### Characteristic of data "
   ]
  },
  {
   "cell_type": "code",
   "execution_count": 4,
   "metadata": {},
   "outputs": [
    {
     "data": {
      "text/plain": [
       "array([[  0,   0,   0,   0,   0,   0,   0,   0,   0,   0,   0,   0,   0,\n",
       "          0,   0,   0,   0,   0,   0,   0,   0,   0,   0,   0,   0,   0,\n",
       "          0,   0],\n",
       "       [  0,   0,   0,   0,   0,   0,   0,   0,   0,   0,   0,   0,   0,\n",
       "          0,   0,   0,   0,   0,   0,   0,   0,   0,   0,   0,   0,   0,\n",
       "          0,   0],\n",
       "       [  0,   0,   0,   0,   0,   0,   0,   0,   0,   0,   0,   0,   0,\n",
       "          0,   0,   0,   0,   0,   0,   0,   0,   0,   0,   0,   0,   0,\n",
       "          0,   0],\n",
       "       [  0,   0,   0,   0,   0,   0,   0,   0,   0,   0,   0,   0,   0,\n",
       "          0,   0,   0,   0,   0,   0,   0,   0,   0,   0,   0,   0,   0,\n",
       "          0,   0],\n",
       "       [  0,   0,   0,   0,   0,   0,   0,   0,   0,   0,   0,   0,   0,\n",
       "          0,   0,   0,   0,   0,   0,   0,   0,   0,   0,   0,   0,   0,\n",
       "          0,   0],\n",
       "       [  0,   0,   0,   0,   0,   0,   0,   0,   0,   0,   0,   0,   3,\n",
       "         18,  18,  18, 126, 136, 175,  26, 166, 255, 247, 127,   0,   0,\n",
       "          0,   0],\n",
       "       [  0,   0,   0,   0,   0,   0,   0,   0,  30,  36,  94, 154, 170,\n",
       "        253, 253, 253, 253, 253, 225, 172, 253, 242, 195,  64,   0,   0,\n",
       "          0,   0],\n",
       "       [  0,   0,   0,   0,   0,   0,   0,  49, 238, 253, 253, 253, 253,\n",
       "        253, 253, 253, 253, 251,  93,  82,  82,  56,  39,   0,   0,   0,\n",
       "          0,   0],\n",
       "       [  0,   0,   0,   0,   0,   0,   0,  18, 219, 253, 253, 253, 253,\n",
       "        253, 198, 182, 247, 241,   0,   0,   0,   0,   0,   0,   0,   0,\n",
       "          0,   0],\n",
       "       [  0,   0,   0,   0,   0,   0,   0,   0,  80, 156, 107, 253, 253,\n",
       "        205,  11,   0,  43, 154,   0,   0,   0,   0,   0,   0,   0,   0,\n",
       "          0,   0],\n",
       "       [  0,   0,   0,   0,   0,   0,   0,   0,   0,  14,   1, 154, 253,\n",
       "         90,   0,   0,   0,   0,   0,   0,   0,   0,   0,   0,   0,   0,\n",
       "          0,   0],\n",
       "       [  0,   0,   0,   0,   0,   0,   0,   0,   0,   0,   0, 139, 253,\n",
       "        190,   2,   0,   0,   0,   0,   0,   0,   0,   0,   0,   0,   0,\n",
       "          0,   0],\n",
       "       [  0,   0,   0,   0,   0,   0,   0,   0,   0,   0,   0,  11, 190,\n",
       "        253,  70,   0,   0,   0,   0,   0,   0,   0,   0,   0,   0,   0,\n",
       "          0,   0],\n",
       "       [  0,   0,   0,   0,   0,   0,   0,   0,   0,   0,   0,   0,  35,\n",
       "        241, 225, 160, 108,   1,   0,   0,   0,   0,   0,   0,   0,   0,\n",
       "          0,   0],\n",
       "       [  0,   0,   0,   0,   0,   0,   0,   0,   0,   0,   0,   0,   0,\n",
       "         81, 240, 253, 253, 119,  25,   0,   0,   0,   0,   0,   0,   0,\n",
       "          0,   0],\n",
       "       [  0,   0,   0,   0,   0,   0,   0,   0,   0,   0,   0,   0,   0,\n",
       "          0,  45, 186, 253, 253, 150,  27,   0,   0,   0,   0,   0,   0,\n",
       "          0,   0],\n",
       "       [  0,   0,   0,   0,   0,   0,   0,   0,   0,   0,   0,   0,   0,\n",
       "          0,   0,  16,  93, 252, 253, 187,   0,   0,   0,   0,   0,   0,\n",
       "          0,   0],\n",
       "       [  0,   0,   0,   0,   0,   0,   0,   0,   0,   0,   0,   0,   0,\n",
       "          0,   0,   0,   0, 249, 253, 249,  64,   0,   0,   0,   0,   0,\n",
       "          0,   0],\n",
       "       [  0,   0,   0,   0,   0,   0,   0,   0,   0,   0,   0,   0,   0,\n",
       "          0,  46, 130, 183, 253, 253, 207,   2,   0,   0,   0,   0,   0,\n",
       "          0,   0],\n",
       "       [  0,   0,   0,   0,   0,   0,   0,   0,   0,   0,   0,   0,  39,\n",
       "        148, 229, 253, 253, 253, 250, 182,   0,   0,   0,   0,   0,   0,\n",
       "          0,   0],\n",
       "       [  0,   0,   0,   0,   0,   0,   0,   0,   0,   0,  24, 114, 221,\n",
       "        253, 253, 253, 253, 201,  78,   0,   0,   0,   0,   0,   0,   0,\n",
       "          0,   0],\n",
       "       [  0,   0,   0,   0,   0,   0,   0,   0,  23,  66, 213, 253, 253,\n",
       "        253, 253, 198,  81,   2,   0,   0,   0,   0,   0,   0,   0,   0,\n",
       "          0,   0],\n",
       "       [  0,   0,   0,   0,   0,   0,  18, 171, 219, 253, 253, 253, 253,\n",
       "        195,  80,   9,   0,   0,   0,   0,   0,   0,   0,   0,   0,   0,\n",
       "          0,   0],\n",
       "       [  0,   0,   0,   0,  55, 172, 226, 253, 253, 253, 253, 244, 133,\n",
       "         11,   0,   0,   0,   0,   0,   0,   0,   0,   0,   0,   0,   0,\n",
       "          0,   0],\n",
       "       [  0,   0,   0,   0, 136, 253, 253, 253, 212, 135, 132,  16,   0,\n",
       "          0,   0,   0,   0,   0,   0,   0,   0,   0,   0,   0,   0,   0,\n",
       "          0,   0],\n",
       "       [  0,   0,   0,   0,   0,   0,   0,   0,   0,   0,   0,   0,   0,\n",
       "          0,   0,   0,   0,   0,   0,   0,   0,   0,   0,   0,   0,   0,\n",
       "          0,   0],\n",
       "       [  0,   0,   0,   0,   0,   0,   0,   0,   0,   0,   0,   0,   0,\n",
       "          0,   0,   0,   0,   0,   0,   0,   0,   0,   0,   0,   0,   0,\n",
       "          0,   0],\n",
       "       [  0,   0,   0,   0,   0,   0,   0,   0,   0,   0,   0,   0,   0,\n",
       "          0,   0,   0,   0,   0,   0,   0,   0,   0,   0,   0,   0,   0,\n",
       "          0,   0]], dtype=uint8)"
      ]
     },
     "execution_count": 4,
     "metadata": {},
     "output_type": "execute_result"
    }
   ],
   "source": [
    "train_images[0]"
   ]
  },
  {
   "cell_type": "code",
   "execution_count": 5,
   "metadata": {},
   "outputs": [
    {
     "data": {
      "text/plain": [
       "<matplotlib.image.AxesImage at 0x7fd0782ec748>"
      ]
     },
     "execution_count": 5,
     "metadata": {},
     "output_type": "execute_result"
    },
    {
     "data": {
      "image/png": "[encoded data removed]",
      "text/plain": [
       "<Figure size 432x288 with 1 Axes>"
      ]
     },
     "metadata": {},
     "output_type": "display_data"
    }
   ],
   "source": [
    "digit = train_images[0]\n",
    "\n",
    "import matplotlib.pyplot as plt\n",
    "%matplotlib inline\n",
    "\n",
    "plt.imshow(digit, cmap=plt.cm.binary)"
   ]
  },
  {
   "cell_type": "code",
   "execution_count": 6,
   "metadata": {},
   "outputs": [
    {
     "data": {
      "text/plain": [
       "array([5, 0, 4, ..., 5, 6, 8], dtype=uint8)"
      ]
     },
     "execution_count": 6,
     "metadata": {},
     "output_type": "execute_result"
    }
   ],
   "source": [
    "train_labels"
   ]
  },
  {
   "cell_type": "markdown",
   "metadata": {},
   "source": [
    "## 2. Create a fully-connect neural network model"
   ]
  },
  {
   "cell_type": "code",
   "execution_count": 7,
   "metadata": {},
   "outputs": [],
   "source": [
    "from keras import models\n",
    "from keras import layers"
   ]
  },
  {
   "cell_type": "code",
   "execution_count": 8,
   "metadata": {},
   "outputs": [],
   "source": [
    "network = models.Sequential()"
   ]
  },
  {
   "cell_type": "code",
   "execution_count": 9,
   "metadata": {},
   "outputs": [
    {
     "data": {
      "text/plain": [
       "<keras.engine.sequential.Sequential at 0x7fd0782cc9e8>"
      ]
     },
     "execution_count": 9,
     "metadata": {},
     "output_type": "execute_result"
    }
   ],
   "source": [
    "network"
   ]
  },
  {
   "cell_type": "code",
   "execution_count": 10,
   "metadata": {},
   "outputs": [],
   "source": [
    "network.add(layers.Dense(256,activation='relu',input_shape=(28*28,)))\n",
    "network.add(layers.Dense(10,activation='softmax'))"
   ]
  },
  {
   "cell_type": "code",
   "execution_count": 11,
   "metadata": {},
   "outputs": [],
   "source": [
    "network.compile(optimizer='sgd',\n",
    "               loss='categorical_crossentropy',\n",
    "               metrics=['accuracy'])"
   ]
  },
  {
   "cell_type": "code",
   "execution_count": 12,
   "metadata": {},
   "outputs": [
    {
     "name": "stdout",
     "output_type": "stream",
     "text": [
      "_________________________________________________________________\n",
      "Layer (type)                 Output Shape              Param #   \n",
      "=================================================================\n",
      "dense_1 (Dense)              (None, 256)               200960    \n",
      "_________________________________________________________________\n",
      "dense_2 (Dense)              (None, 10)                2570      \n",
      "=================================================================\n",
      "Total params: 203,530\n",
      "Trainable params: 203,530\n",
      "Non-trainable params: 0\n",
      "_________________________________________________________________\n"
     ]
    }
   ],
   "source": [
    "network.summary()"
   ]
  },
  {
   "cell_type": "markdown",
   "metadata": {},
   "source": [
    "## 3. Preprocessing Data"
   ]
  },
  {
   "cell_type": "code",
   "execution_count": 13,
   "metadata": {},
   "outputs": [
    {
     "data": {
      "text/plain": [
       "(60000, 28, 28)"
      ]
     },
     "execution_count": 13,
     "metadata": {},
     "output_type": "execute_result"
    }
   ],
   "source": [
    "train_images.shape"
   ]
  },
  {
   "cell_type": "code",
   "execution_count": 19,
   "metadata": {},
   "outputs": [],
   "source": [
    "train_images = train_images.reshape(60000,28*28) "
   ]
  },
  {
   "cell_type": "code",
   "execution_count": 16,
   "metadata": {},
   "outputs": [
    {
     "data": {
      "text/plain": [
       "array([  0,   0,   0,   0,   0,   0,   0,   0,   0,   0,   0,   0,   0,\n",
       "         0,   0,   0,   0,   0,   0,   0,   0,   0,   0,   0,   0,   0,\n",
       "         0,   0,   0,   0,   0,   0,   0,   0,   0,   0,   0,   0,   0,\n",
       "         0,   0,   0,   0,   0,   0,   0,   0,   0,   0,   0,   0,   0,\n",
       "         0,   0,   0,   0,   0,   0,   0,   0,   0,   0,   0,   0,   0,\n",
       "         0,   0,   0,   0,   0,   0,   0,   0,   0,   0,   0,   0,   0,\n",
       "         0,   0,   0,   0,   0,   0,   0,   0,   0,   0,   0,   0,   0,\n",
       "         0,   0,   0,   0,   0,   0,   0,   0,   0,   0,   0,   0,   0,\n",
       "         0,   0,   0,   0,   0,   0,   0,   0,   0,   0,   0,   0,   0,\n",
       "         0,   0,   0,   0,   0,   0,   0,   0,   0,   0,   0,   0,   0,\n",
       "         0,   0,   0,   0,   0,   0,   0,   0,   0,   0,   0,   0,   0,\n",
       "         0,   0,   0,   0,   0,   0,   0,   0,   0,   3,  18,  18,  18,\n",
       "       126, 136, 175,  26, 166, 255, 247, 127,   0,   0,   0,   0,   0,\n",
       "         0,   0,   0,   0,   0,   0,   0,  30,  36,  94, 154, 170, 253,\n",
       "       253, 253, 253, 253, 225, 172, 253, 242, 195,  64,   0,   0,   0,\n",
       "         0,   0,   0,   0,   0,   0,   0,   0,  49, 238, 253, 253, 253,\n",
       "       253, 253, 253, 253, 253, 251,  93,  82,  82,  56,  39,   0,   0,\n",
       "         0,   0,   0,   0,   0,   0,   0,   0,   0,   0,  18, 219, 253,\n",
       "       253, 253, 253, 253, 198, 182, 247, 241,   0,   0,   0,   0,   0,\n",
       "         0,   0,   0,   0,   0,   0,   0,   0,   0,   0,   0,   0,   0,\n",
       "        80, 156, 107, 253, 253, 205,  11,   0,  43, 154,   0,   0,   0,\n",
       "         0,   0,   0,   0,   0,   0,   0,   0,   0,   0,   0,   0,   0,\n",
       "         0,   0,   0,  14,   1, 154, 253,  90,   0,   0,   0,   0,   0,\n",
       "         0,   0,   0,   0,   0,   0,   0,   0,   0,   0,   0,   0,   0,\n",
       "         0,   0,   0,   0,   0,   0,   0, 139, 253, 190,   2,   0,   0,\n",
       "         0,   0,   0,   0,   0,   0,   0,   0,   0,   0,   0,   0,   0,\n",
       "         0,   0,   0,   0,   0,   0,   0,   0,   0,  11, 190, 253,  70,\n",
       "         0,   0,   0,   0,   0,   0,   0,   0,   0,   0,   0,   0,   0,\n",
       "         0,   0,   0,   0,   0,   0,   0,   0,   0,   0,   0,   0,  35,\n",
       "       241, 225, 160, 108,   1,   0,   0,   0,   0,   0,   0,   0,   0,\n",
       "         0,   0,   0,   0,   0,   0,   0,   0,   0,   0,   0,   0,   0,\n",
       "         0,   0,  81, 240, 253, 253, 119,  25,   0,   0,   0,   0,   0,\n",
       "         0,   0,   0,   0,   0,   0,   0,   0,   0,   0,   0,   0,   0,\n",
       "         0,   0,   0,   0,   0,  45, 186, 253, 253, 150,  27,   0,   0,\n",
       "         0,   0,   0,   0,   0,   0,   0,   0,   0,   0,   0,   0,   0,\n",
       "         0,   0,   0,   0,   0,   0,   0,   0,  16,  93, 252, 253, 187,\n",
       "         0,   0,   0,   0,   0,   0,   0,   0,   0,   0,   0,   0,   0,\n",
       "         0,   0,   0,   0,   0,   0,   0,   0,   0,   0,   0,   0, 249,\n",
       "       253, 249,  64,   0,   0,   0,   0,   0,   0,   0,   0,   0,   0,\n",
       "         0,   0,   0,   0,   0,   0,   0,   0,   0,   0,   0,  46, 130,\n",
       "       183, 253, 253, 207,   2,   0,   0,   0,   0,   0,   0,   0,   0,\n",
       "         0,   0,   0,   0,   0,   0,   0,   0,   0,   0,   0,  39, 148,\n",
       "       229, 253, 253, 253, 250, 182,   0,   0,   0,   0,   0,   0,   0,\n",
       "         0,   0,   0,   0,   0,   0,   0,   0,   0,   0,   0,  24, 114,\n",
       "       221, 253, 253, 253, 253, 201,  78,   0,   0,   0,   0,   0,   0,\n",
       "         0,   0,   0,   0,   0,   0,   0,   0,   0,   0,   0,  23,  66,\n",
       "       213, 253, 253, 253, 253, 198,  81,   2,   0,   0,   0,   0,   0,\n",
       "         0,   0,   0,   0,   0,   0,   0,   0,   0,   0,   0,  18, 171,\n",
       "       219, 253, 253, 253, 253, 195,  80,   9,   0,   0,   0,   0,   0,\n",
       "         0,   0,   0,   0,   0,   0,   0,   0,   0,   0,   0,  55, 172,\n",
       "       226, 253, 253, 253, 253, 244, 133,  11,   0,   0,   0,   0,   0,\n",
       "         0,   0,   0,   0,   0,   0,   0,   0,   0,   0,   0,   0,   0,\n",
       "       136, 253, 253, 253, 212, 135, 132,  16,   0,   0,   0,   0,   0,\n",
       "         0,   0,   0,   0,   0,   0,   0,   0,   0,   0,   0,   0,   0,\n",
       "         0,   0,   0,   0,   0,   0,   0,   0,   0,   0,   0,   0,   0,\n",
       "         0,   0,   0,   0,   0,   0,   0,   0,   0,   0,   0,   0,   0,\n",
       "         0,   0,   0,   0,   0,   0,   0,   0,   0,   0,   0,   0,   0,\n",
       "         0,   0,   0,   0,   0,   0,   0,   0,   0,   0,   0,   0,   0,\n",
       "         0,   0,   0,   0,   0,   0,   0,   0,   0,   0,   0,   0,   0,\n",
       "         0,   0,   0,   0,   0,   0,   0,   0,   0,   0,   0,   0,   0,\n",
       "         0,   0,   0,   0], dtype=uint8)"
      ]
     },
     "execution_count": 16,
     "metadata": {},
     "output_type": "execute_result"
    }
   ],
   "source": [
    "train_images[0]"
   ]
  },
  {
   "cell_type": "code",
   "execution_count": 20,
   "metadata": {},
   "outputs": [],
   "source": [
    "train_images = train_images.reshape(60000,28*28) # Reshape\n",
    "train_images = train_images.astype('float32')/255 # Normalize\n",
    "\n",
    "test_images = test_images.reshape(10000,28*28) # Reshape\n",
    "test_images = test_images.astype('float32')/255 # Normalize"
   ]
  },
  {
   "cell_type": "code",
   "execution_count": 21,
   "metadata": {},
   "outputs": [],
   "source": [
    "from keras.utils import to_categorical"
   ]
  },
  {
   "cell_type": "code",
   "execution_count": 22,
   "metadata": {},
   "outputs": [],
   "source": [
    "train_labels = to_categorical(train_labels)\n",
    "test_labels = to_categorical(test_labels)"
   ]
  },
  {
   "cell_type": "code",
   "execution_count": 23,
   "metadata": {},
   "outputs": [
    {
     "data": {
      "text/plain": [
       "array([[0., 0., 0., ..., 1., 0., 0.],\n",
       "       [0., 0., 1., ..., 0., 0., 0.],\n",
       "       [0., 1., 0., ..., 0., 0., 0.],\n",
       "       ...,\n",
       "       [0., 0., 0., ..., 0., 0., 0.],\n",
       "       [0., 0., 0., ..., 0., 0., 0.],\n",
       "       [0., 0., 0., ..., 0., 0., 0.]], dtype=float32)"
      ]
     },
     "execution_count": 23,
     "metadata": {},
     "output_type": "execute_result"
    }
   ],
   "source": [
    "test_labels"
   ]
  },
  {
   "cell_type": "code",
   "execution_count": 24,
   "metadata": {},
   "outputs": [
    {
     "data": {
      "text/plain": [
       "(10000, 10)"
      ]
     },
     "execution_count": 24,
     "metadata": {},
     "output_type": "execute_result"
    }
   ],
   "source": [
    "test_labels.shape"
   ]
  },
  {
   "cell_type": "markdown",
   "metadata": {},
   "source": [
    "## 4. Train Model"
   ]
  },
  {
   "cell_type": "code",
   "execution_count": 30,
   "metadata": {},
   "outputs": [
    {
     "name": "stdout",
     "output_type": "stream",
     "text": [
      "Train on 54000 samples, validate on 6000 samples\n",
      "Epoch 1/30\n",
      "54000/54000 [==============================] - 2s 28us/step - loss: 0.1899 - acc: 0.9464 - val_loss: 0.1598 - val_acc: 0.9583\n",
      "Epoch 2/30\n",
      "54000/54000 [==============================] - 1s 28us/step - loss: 0.1868 - acc: 0.9477 - val_loss: 0.1579 - val_acc: 0.9600\n",
      "Epoch 3/30\n",
      "54000/54000 [==============================] - 2s 28us/step - loss: 0.1838 - acc: 0.9481 - val_loss: 0.1560 - val_acc: 0.9598\n",
      "Epoch 4/30\n",
      "54000/54000 [==============================] - 2s 28us/step - loss: 0.1809 - acc: 0.9491 - val_loss: 0.1535 - val_acc: 0.9610\n",
      "Epoch 5/30\n",
      "54000/54000 [==============================] - 2s 28us/step - loss: 0.1780 - acc: 0.9501 - val_loss: 0.1515 - val_acc: 0.9617\n",
      "Epoch 6/30\n",
      "54000/54000 [==============================] - 2s 28us/step - loss: 0.1752 - acc: 0.9510 - val_loss: 0.1497 - val_acc: 0.9622\n",
      "Epoch 7/30\n",
      "54000/54000 [==============================] - 2s 28us/step - loss: 0.1725 - acc: 0.9516 - val_loss: 0.1476 - val_acc: 0.9623\n",
      "Epoch 8/30\n",
      "54000/54000 [==============================] - 2s 28us/step - loss: 0.1699 - acc: 0.9526 - val_loss: 0.1463 - val_acc: 0.9622\n",
      "Epoch 9/30\n",
      "54000/54000 [==============================] - 1s 28us/step - loss: 0.1673 - acc: 0.9532 - val_loss: 0.1437 - val_acc: 0.9640\n",
      "Epoch 10/30\n",
      "54000/54000 [==============================] - 1s 28us/step - loss: 0.1649 - acc: 0.9539 - val_loss: 0.1423 - val_acc: 0.9648\n",
      "Epoch 11/30\n",
      "54000/54000 [==============================] - 1s 27us/step - loss: 0.1625 - acc: 0.9545 - val_loss: 0.1407 - val_acc: 0.9648\n",
      "Epoch 12/30\n",
      "54000/54000 [==============================] - 1s 28us/step - loss: 0.1601 - acc: 0.9552 - val_loss: 0.1392 - val_acc: 0.9637\n",
      "Epoch 13/30\n",
      "54000/54000 [==============================] - 1s 28us/step - loss: 0.1579 - acc: 0.9561 - val_loss: 0.1375 - val_acc: 0.9638\n",
      "Epoch 14/30\n",
      "54000/54000 [==============================] - 1s 27us/step - loss: 0.1557 - acc: 0.9567 - val_loss: 0.1361 - val_acc: 0.9650\n",
      "Epoch 15/30\n",
      "54000/54000 [==============================] - 1s 28us/step - loss: 0.1536 - acc: 0.9572 - val_loss: 0.1345 - val_acc: 0.9657\n",
      "Epoch 16/30\n",
      "54000/54000 [==============================] - 1s 28us/step - loss: 0.1515 - acc: 0.9578 - val_loss: 0.1330 - val_acc: 0.9660\n",
      "Epoch 17/30\n",
      "54000/54000 [==============================] - 2s 28us/step - loss: 0.1494 - acc: 0.9583 - val_loss: 0.1322 - val_acc: 0.9653\n",
      "Epoch 18/30\n",
      "54000/54000 [==============================] - 1s 28us/step - loss: 0.1475 - acc: 0.9591 - val_loss: 0.1305 - val_acc: 0.9660\n",
      "Epoch 19/30\n",
      "54000/54000 [==============================] - 1s 27us/step - loss: 0.1455 - acc: 0.9596 - val_loss: 0.1288 - val_acc: 0.9668\n",
      "Epoch 20/30\n",
      "54000/54000 [==============================] - 1s 28us/step - loss: 0.1435 - acc: 0.9601 - val_loss: 0.1279 - val_acc: 0.9667\n",
      "Epoch 21/30\n",
      "54000/54000 [==============================] - 2s 28us/step - loss: 0.1417 - acc: 0.9611 - val_loss: 0.1270 - val_acc: 0.9665\n",
      "Epoch 22/30\n",
      "54000/54000 [==============================] - 1s 28us/step - loss: 0.1400 - acc: 0.9612 - val_loss: 0.1253 - val_acc: 0.9668\n",
      "Epoch 23/30\n",
      "54000/54000 [==============================] - 1s 28us/step - loss: 0.1382 - acc: 0.9618 - val_loss: 0.1246 - val_acc: 0.9678\n",
      "Epoch 24/30\n",
      "54000/54000 [==============================] - 2s 28us/step - loss: 0.1365 - acc: 0.9622 - val_loss: 0.1234 - val_acc: 0.9673\n",
      "Epoch 25/30\n",
      "54000/54000 [==============================] - 1s 28us/step - loss: 0.1349 - acc: 0.9627 - val_loss: 0.1224 - val_acc: 0.9677\n",
      "Epoch 26/30\n",
      "54000/54000 [==============================] - 1s 27us/step - loss: 0.1332 - acc: 0.9634 - val_loss: 0.1210 - val_acc: 0.9677\n",
      "Epoch 27/30\n",
      "54000/54000 [==============================] - 2s 28us/step - loss: 0.1315 - acc: 0.9642 - val_loss: 0.1201 - val_acc: 0.9687\n",
      "Epoch 28/30\n",
      "54000/54000 [==============================] - 1s 27us/step - loss: 0.1300 - acc: 0.9646 - val_loss: 0.1191 - val_acc: 0.9698\n",
      "Epoch 29/30\n",
      "54000/54000 [==============================] - 1s 28us/step - loss: 0.1285 - acc: 0.9649 - val_loss: 0.1186 - val_acc: 0.9687\n",
      "Epoch 30/30\n",
      "54000/54000 [==============================] - 1s 27us/step - loss: 0.1269 - acc: 0.9652 - val_loss: 0.1172 - val_acc: 0.9687\n"
     ]
    }
   ],
   "source": [
    "history = network.fit(train_images,train_labels,epochs=30,batch_size=128,validation_split=0.1)"
   ]
  },
  {
   "cell_type": "markdown",
   "metadata": {},
   "source": [
    "## 5. Evaluate Model"
   ]
  },
  {
   "cell_type": "code",
   "execution_count": 26,
   "metadata": {},
   "outputs": [
    {
     "name": "stdout",
     "output_type": "stream",
     "text": [
      "10000/10000 [==============================] - 0s 33us/step\n",
      "Test Loss: 0.18829120967686178\n",
      "Test Accuracy: 0.9467\n"
     ]
    }
   ],
   "source": [
    "test_loss, test_acc = network.evaluate(test_images, test_labels)\n",
    "print('Test Loss: %s\\nTest Accuracy: %s' % (test_loss,test_acc))"
   ]
  },
  {
   "cell_type": "code",
   "execution_count": 27,
   "metadata": {},
   "outputs": [
    {
     "data": {
      "text/plain": [
       "{'val_loss': [0.6231971038182577,\n",
       "  0.4198305516242981,\n",
       "  0.351975594997406,\n",
       "  0.31691614802678425,\n",
       "  0.2944853019714355,\n",
       "  0.2791762498219808,\n",
       "  0.26717370319366457,\n",
       "  0.25655662592252093,\n",
       "  0.24841146421432495,\n",
       "  0.24079452403386434,\n",
       "  0.23454560939470928,\n",
       "  0.22883457692464193,\n",
       "  0.22295419772466024,\n",
       "  0.21769835464159648,\n",
       "  0.21299583466847738,\n",
       "  0.20821726552645364,\n",
       "  0.20397063565254211,\n",
       "  0.20012032981713612,\n",
       "  0.19635447069009146,\n",
       "  0.19277013456821443,\n",
       "  0.1889963145653407,\n",
       "  0.18580278813838957,\n",
       "  0.18210580790042877,\n",
       "  0.17909057807922363,\n",
       "  0.17583125778039296,\n",
       "  0.1730831876595815,\n",
       "  0.17041811124483744,\n",
       "  0.16764963618914286,\n",
       "  0.16508894236882526,\n",
       "  0.1631417766014735],\n",
       " 'val_acc': [0.8791666671435038,\n",
       "  0.9023333330154419,\n",
       "  0.9116666668256124,\n",
       "  0.9166666663487752,\n",
       "  0.9196666668256124,\n",
       "  0.9233333338101705,\n",
       "  0.9238333338101705,\n",
       "  0.9280000004768372,\n",
       "  0.9295000004768371,\n",
       "  0.9328333338101705,\n",
       "  0.9336666671435038,\n",
       "  0.9351666666666667,\n",
       "  0.9361666666666667,\n",
       "  0.9390000004768372,\n",
       "  0.9404999998410543,\n",
       "  0.9408333338101705,\n",
       "  0.9443333338101705,\n",
       "  0.9453333331743876,\n",
       "  0.9463333338101705,\n",
       "  0.9473333331743876,\n",
       "  0.9483333338101705,\n",
       "  0.9495000004768371,\n",
       "  0.951166666507721,\n",
       "  0.9516666665077209,\n",
       "  0.9525000003178914,\n",
       "  0.9543333336512247,\n",
       "  0.9554999998410543,\n",
       "  0.9558333330154419,\n",
       "  0.9573333330154419,\n",
       "  0.9573333336512247],\n",
       " 'loss': [1.2319768986172146,\n",
       "  0.5744802016063972,\n",
       "  0.4542034179634518,\n",
       "  0.40137254281397217,\n",
       "  0.36978149699281765,\n",
       "  0.3479538970346804,\n",
       "  0.33124500873353746,\n",
       "  0.31770546716230885,\n",
       "  0.30624998229521294,\n",
       "  0.2962901696364085,\n",
       "  0.2874919343436206,\n",
       "  0.27960208236729656,\n",
       "  0.2720776003378409,\n",
       "  0.2653429749983328,\n",
       "  0.259157741272891,\n",
       "  0.25311677105338487,\n",
       "  0.2475800693564945,\n",
       "  0.2423625800565437,\n",
       "  0.23734616075180195,\n",
       "  0.23242189377987826,\n",
       "  0.2278472510046429,\n",
       "  0.22338923870192634,\n",
       "  0.21913408784071606,\n",
       "  0.21508749220106338,\n",
       "  0.21103590918911827,\n",
       "  0.2073125590880712,\n",
       "  0.20357459285965673,\n",
       "  0.1999458845059077,\n",
       "  0.1965683583330225,\n",
       "  0.19321783871120876],\n",
       " 'acc': [0.7132592593122412,\n",
       "  0.8620925925925926,\n",
       "  0.8825740740564134,\n",
       "  0.892611111164093,\n",
       "  0.8991481481128268,\n",
       "  0.9040925926102532,\n",
       "  0.9077222221692404,\n",
       "  0.9111666667196485,\n",
       "  0.9140925926455745,\n",
       "  0.9172222222575435,\n",
       "  0.9192407407937226,\n",
       "  0.9219629629276417,\n",
       "  0.9240555555025737,\n",
       "  0.9262592592062774,\n",
       "  0.9276851851498639,\n",
       "  0.9294999999646787,\n",
       "  0.9313333333863152,\n",
       "  0.9320000000529819,\n",
       "  0.9335925926455745,\n",
       "  0.9349074073720861,\n",
       "  0.9363703703880311,\n",
       "  0.9376481482011301,\n",
       "  0.9385925925572713,\n",
       "  0.9397037037037037,\n",
       "  0.941074074127056,\n",
       "  0.9418888889418708,\n",
       "  0.9427592592945805,\n",
       "  0.9438703704233523,\n",
       "  0.9444444444621051,\n",
       "  0.9457037036683824]}"
      ]
     },
     "execution_count": 27,
     "metadata": {},
     "output_type": "execute_result"
    }
   ],
   "source": [
    "history.history"
   ]
  },
  {
   "cell_type": "code",
   "execution_count": 28,
   "metadata": {},
   "outputs": [],
   "source": [
    "# The function argument is a record or history of the model during training process.\n",
    "def plot_loss_fn(history):\n",
    "    loss = history.history['loss']\n",
    "    val_loss = history.history['val_loss']\n",
    "\n",
    "    epochs = range(1, len(loss) + 1)\n",
    "\n",
    "    plt.plot(epochs, loss, 'bo', label='Training loss')\n",
    "    plt.plot(epochs, val_loss, 'b', label='Validation loss')\n",
    "    plt.title('Training and validation loss')\n",
    "    plt.xlabel('Epochs')\n",
    "    plt.ylabel('Loss')\n",
    "    plt.legend()\n",
    "    \n",
    "def plot_acc_fn(history):\n",
    "\n",
    "    acc = history.history['acc']\n",
    "    val_acc = history.history['val_acc']\n",
    "    \n",
    "    epochs = range(1, len(acc) + 1)\n",
    "\n",
    "    plt.plot(epochs, acc, 'bo', label='Training acc')\n",
    "    plt.plot(epochs, val_acc, 'b', label='Validation acc')\n",
    "    plt.title('Training and validation accuracy')\n",
    "    plt.xlabel('Epochs')\n",
    "    plt.ylabel('Loss')\n",
    "    plt.legend()"
   ]
  },
  {
   "cell_type": "code",
   "execution_count": 29,
   "metadata": {},
   "outputs": [
    {
     "data": {
      "image/png": "[encoded data removed]",
      "text/plain": [
       "<Figure size 432x288 with 1 Axes>"
      ]
     },
     "metadata": {},
     "output_type": "display_data"
    }
   ],
   "source": [
    "plot_acc_fn(history)"
   ]
  },
  {
   "cell_type": "code",
   "execution_count": null,
   "metadata": {},
   "outputs": [],
   "source": []
  }
 ],
 "metadata": {
  "kernelspec": {
   "display_name": "Python 3",
   "language": "python",
   "name": "python3"
  },
  "language_info": {
   "codemirror_mode": {
    "name": "ipython",
    "version": 3
   },
   "file_extension": ".py",
   "mimetype": "text/x-python",
   "name": "python",
   "nbconvert_exporter": "python",
   "pygments_lexer": "ipython3",
   "version": "3.6.6"
  }
 },
 "nbformat": 4,
 "nbformat_minor": 2
}
