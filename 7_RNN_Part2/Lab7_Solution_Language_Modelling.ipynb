{
 "cells": [
  {
   "cell_type": "markdown",
   "metadata": {},
   "source": [
    "# Lab 6: Training Deep Recurrent Neural Network - Part 2\n",
    "\n",
    "Name1, Student's ID1<br>\n",
    "Name2, Student's ID2<br>\n",
    "Name3, Student's ID3<br>\n",
    "\n",
    "**Note: Please name your file**\n",
    "\n",
    "## Lab Instruction - Language Modelling and Text Classification\n",
    "\n",
    "In this lab, you will learn to train a deep recurrent neural network using LSTM with the Keras library using the Tensorflow backend. Your task is to implement the natural language modelling and text generation.\n",
    "\n",
    "Select your favourite book from https://www.gutenberg.org/browse/scores/top and download it as a text file. Then, you will train your language model using RNN-LSTM. \n",
    "\n",
    "- Language model (in Thai): http://bit.ly/language_model_1\n",
    "- Tutorial on how to create a language model (in English): https://medium.com/@shivambansal36/language-modelling-text-generation-using-lstms-deep-learning-for-nlp-ed36b224b275\n",
    "\n",
    "To evaluate the model, the perplexity measurement is used: https://stats.stackexchange.com/questions/10302/what-is-perplexity\n",
    "\n",
    "Last, fine-tune your model. You have to try different hyperparameter or adding more data. Discuss your result.\n",
    "\n",
    "\n",
    "\n",
    "**The total lab score is 20 which will be evaluated as follows:**</br>\n",
    "1. Specification (Do as the instruction said. This include the model tuning section where you have to do a proper amount of tuning) - 10 points\n",
    "2. Design of logic (No weired things in the process) - 5 points\n",
    "3. Journaling (Communicate your thought process, comment your code, and discuss result & analyse **in every step**) - 5 points\n",
    "\n"
   ]
  },
  {
   "cell_type": "code",
   "execution_count": 27,
   "metadata": {},
   "outputs": [
    {
     "name": "stderr",
     "output_type": "stream",
     "text": [
      "Using TensorFlow backend.\n"
     ]
    }
   ],
   "source": [
    "import keras\n",
    "import numpy as np\n",
    "import keras.backend as K\n",
    "from keras import models\n",
    "from keras import layers\n",
    "from keras.preprocessing import text\n",
    "from keras.preprocessing import sequence"
   ]
  },
  {
   "cell_type": "markdown",
   "metadata": {},
   "source": [
    "#### 1. Load your data "
   ]
  },
  {
   "cell_type": "code",
   "execution_count": 22,
   "metadata": {},
   "outputs": [],
   "source": [
    "# Load data\n",
    "raw_text = open('data/alice_in_wonderland.txt').read()"
   ]
  },
  {
   "cell_type": "code",
   "execution_count": 23,
   "metadata": {},
   "outputs": [
    {
     "data": {
      "text/plain": [
       "'\\ufeffCHAPTER I. Down the Rabbit-Hole\\n\\nAlice was beginning to get very tired of sitting by her sister on the\\nbank, and of having nothing to do: once or twice she had peeped into the\\nbook her sister was rea'"
      ]
     },
     "execution_count": 23,
     "metadata": {},
     "output_type": "execute_result"
    }
   ],
   "source": [
    "# Inspect data\n",
    "raw_text[:200]"
   ]
  },
  {
   "cell_type": "code",
   "execution_count": 5,
   "metadata": {},
   "outputs": [],
   "source": [
    "chars = sorted(list(set(raw_text)))"
   ]
  },
  {
   "cell_type": "code",
   "execution_count": 25,
   "metadata": {},
   "outputs": [
    {
     "name": "stdout",
     "output_type": "stream",
     "text": [
      "Total characters:  72\n",
      "Total word:  27264\n"
     ]
    }
   ],
   "source": [
    "print(\"Total characters: \", len(chars))\n",
    "print(\"Total word: \", len(raw_text.split()))"
   ]
  },
  {
   "cell_type": "markdown",
   "metadata": {},
   "source": [
    "#### 2. Data Preprocessing \n",
    "\n",
    "*Note that only story will be used as a dataset, footnote and creddit are not include.*\n",
    "\n",
    "The symbol '\\n' is indicated the end of the line ``<EOS>``, which is for our model to end the sentence here.\n",
    "\n",
    "To create a corpus for your model. The following code is can be used:</br>\n",
    "*Note that other techniques can be used*\n",
    "\n",
    "```python\n",
    "# cut the text in semi-redundant sequences of maxlen characters.\n",
    "for i in range(0, len(text) - maxlen, step):\n",
    "    sentences.append(text[i: i + maxlen])\n",
    "    next_chars.append(text[i + maxlen])\n",
    "```\n",
    "\n",
    "The code loop through the data from first word to the last word. The maxlen define a next n word for a model to predict.\n"
   ]
  },
  {
   "cell_type": "code",
   "execution_count": 24,
   "metadata": {},
   "outputs": [
    {
     "data": {
      "text/plain": [
       "'\\ufeffCHAPTER I. Down the Rabbit-Hole <EOS> Alice was beginning to get very tired of sitting by her sister on the\\nbank, and of having nothing to do: once or twice she had peeped into the\\nbook her sister wa'"
      ]
     },
     "execution_count": 24,
     "metadata": {},
     "output_type": "execute_result"
    }
   ],
   "source": [
    "# Adding end of string symbol\n",
    "raw_text = raw_text.replace('\\n\\n', \" <EOS> \")\n",
    "raw_text[:200]"
   ]
  },
  {
   "cell_type": "code",
   "execution_count": 36,
   "metadata": {},
   "outputs": [],
   "source": [
    "# Preprocessing \n",
    "# Create corpus & Vectorization\n",
    "\n",
    "tokenizer = text.Tokenizer()\n",
    "\n",
    "# basic cleanup\n",
    "corpus = raw_text.lower().split(\"\\n\")\n",
    "\n",
    "# tokenization\n",
    "tokenizer.fit_on_texts(corpus)\n",
    "total_words = len(tokenizer.word_index) + 1\n",
    "\n",
    "# create input sequences using list of tokens\n",
    "input_sequences = []\n",
    "for line in corpus:\n",
    "    token_list = tokenizer.texts_to_sequences([line])[0]\n",
    "    for i in range(1, len(token_list)):\n",
    "        n_gram_sequence = token_list[:i+1]\n",
    "        input_sequences.append(n_gram_sequence)\n",
    "\n",
    "# pad sequences \n",
    "max_sequence_len = max([len(x) for x in input_sequences])\n",
    "\n",
    "# Pre padding \n",
    "input_sequences = np.array(sequence.pad_sequences(input_sequences, maxlen=max_sequence_len, padding='pre'))\n",
    "\n",
    "# create predictors and label\n",
    "predictors, label = input_sequences[:,:-1],input_sequences[:,-1]\n",
    "\n",
    "# One-hot label\n",
    "label = keras.utils.to_categorical(label, num_classes=total_words)"
   ]
  },
  {
   "cell_type": "code",
   "execution_count": 47,
   "metadata": {},
   "outputs": [
    {
     "data": {
      "text/plain": [
       "2908"
      ]
     },
     "execution_count": 47,
     "metadata": {},
     "output_type": "execute_result"
    }
   ],
   "source": [
    "n_gram_sequence[0]"
   ]
  },
  {
   "cell_type": "code",
   "execution_count": 38,
   "metadata": {},
   "outputs": [
    {
     "name": "stdout",
     "output_type": "stream",
     "text": [
      "[   0    0    0    0    0    0    0    0    0    0    0    0    0    0\n",
      "    0    0    0    0    0    0    0    0    0    0    0    0    0    0\n",
      "    0    0    0    0    0    0    0    0    0    0    0    0    0    0\n",
      "    0    0    0    0    0    0    0    0    0    0    0    0    0    0\n",
      "    0    0    0    0    0    0    0    0    0    0    0    0    0    0\n",
      "    0    0    0    0    0    0    0    0    0    0    0    0    0    0\n",
      "    0    0    0    0    0    0    0    0    0    0    0    0    0    0\n",
      "    0    0    0    0    0    0    0    0    0    0    0    0    0    0\n",
      "    0    0    0    0 1596   15   37    1  100  632    3   11   13  273\n",
      "    5  107]\n"
     ]
    }
   ],
   "source": [
    "print(input_sequences[10])"
   ]
  },
  {
   "cell_type": "code",
   "execution_count": 40,
   "metadata": {},
   "outputs": [
    {
     "name": "stdout",
     "output_type": "stream",
     "text": [
      "Max sequence len: 128\n"
     ]
    }
   ],
   "source": [
    "print('Max sequence len: %s' % max_sequence_len)"
   ]
  },
  {
   "cell_type": "markdown",
   "metadata": {},
   "source": [
    "#### 3. Language Model"
   ]
  },
  {
   "cell_type": "code",
   "execution_count": 41,
   "metadata": {},
   "outputs": [],
   "source": [
    "def perplexity(y_true, y_pred):\n",
    "    cross_entropy = keras.backend.categorical_crossentropy(y_true, y_pred)\n",
    "    perplexity = keras.backend.pow(2.0, cross_entropy)\n",
    "    return perplexity"
   ]
  },
  {
   "cell_type": "code",
   "execution_count": 43,
   "metadata": {},
   "outputs": [
    {
     "name": "stdout",
     "output_type": "stream",
     "text": [
      "_________________________________________________________________\n",
      "Layer (type)                 Output Shape              Param #   \n",
      "=================================================================\n",
      "Embedding (Embedding)        (None, 127, 512)          1489920   \n",
      "_________________________________________________________________\n",
      "LSTM1 (LSTM)                 (None, 127, 512)          2099200   \n",
      "_________________________________________________________________\n",
      "LSTM2 (LSTM)                 (None, 256)               787456    \n",
      "_________________________________________________________________\n",
      "Output (Dense)               (None, 2910)              747870    \n",
      "=================================================================\n",
      "Total params: 5,124,446\n",
      "Trainable params: 5,124,446\n",
      "Non-trainable params: 0\n",
      "_________________________________________________________________\n"
     ]
    }
   ],
   "source": [
    "# Define your model\n",
    "# Used Word Embedding \n",
    "\n",
    "model = models.Sequential()\n",
    "model.add(layers.Embedding(total_words, 512,input_length=max_sequence_len-1,name='Embedding'))\n",
    "model.add(layers.LSTM(512, kernel_initializer = 'he_normal',\n",
    "                      dropout=0.3,\n",
    "                      return_sequences=True,\n",
    "                     name='LSTM1'))\n",
    "model.add(layers.LSTM(256, kernel_initializer = 'he_normal',\n",
    "                     dropout=0.3,\n",
    "                     name='LSTM2'))\n",
    "model.add(layers.Dense(total_words, activation='softmax',name='Output'))\n",
    "\n",
    "model.compile(optimizer='rmsprop',loss='categorical_crossentropy', metrics=[perplexity])\n",
    "model.summary()"
   ]
  },
  {
   "cell_type": "markdown",
   "metadata": {},
   "source": [
    "In this lab, we will used perplexity as a metrics\n",
    "\n",
    "```python\n",
    "def perplexity(y_true, y_pred):\n",
    "    cross_entropy = keras.backend.categorical_crossentropy(y_true, y_pred)\n",
    "    perplexity = keras.backend.pow(2.0, cross_entropy)\n",
    "    return perplexity\n",
    "```\n",
    "\n",
    "To used custom metrics function > https://keras.io/metrics/"
   ]
  },
  {
   "cell_type": "code",
   "execution_count": null,
   "metadata": {},
   "outputs": [
    {
     "name": "stdout",
     "output_type": "stream",
     "text": [
      "Epoch 1/10\n",
      "26965/26965 [==============================] - 756s 28ms/step - loss: 5.9910 - perplexity: 241.8112\n",
      "Epoch 2/10\n",
      "26965/26965 [==============================] - 735s 27ms/step - loss: 5.5994 - perplexity: 205.4579\n",
      "Epoch 3/10\n",
      "12704/26965 [=============>................] - ETA: 6:27 - loss: 5.3745 - perplexity: 182.1974"
     ]
    }
   ],
   "source": [
    "# Training your model\n",
    "history = model.fit(predictors, label,batch_size=32, epochs=10)"
   ]
  },
  {
   "cell_type": "markdown",
   "metadata": {},
   "source": [
    "#### 4. Evaluate your model "
   ]
  },
  {
   "cell_type": "code",
   "execution_count": 5,
   "metadata": {},
   "outputs": [],
   "source": [
    "# Create a function to evaluate your model using perplexity measurment (You can try adding other measurements as well)\n",
    "def evaluate_result(features, label, model ):\n",
    "    model.evaluate(features, label)"
   ]
  },
  {
   "cell_type": "markdown",
   "metadata": {},
   "source": [
    "#### 5. Text generating"
   ]
  },
  {
   "cell_type": "code",
   "execution_count": 3,
   "metadata": {},
   "outputs": [],
   "source": [
    "def generate_text(seed_text, max_sequence_len, tolenizer):\n",
    "    # Loop through the next n words\n",
    "    for _ in range(200):\n",
    "        # Preprecess your seed_text and predict the output\n",
    "        # ======\n",
    "        token_list = tokenizer.texts_to_sequences([seed_text])[0]\n",
    "        token_list = sequence.pad_sequences([token_list], maxlen=max_sequence_len-1, padding='pre')\n",
    "        predicted = model.predict_classes(token_list, verbose=0)\n",
    "        # ======\n",
    "\n",
    "        output_word = \"\"\n",
    "        for word, index in tokenizer.word_index.items():\n",
    "            # convert word vector representation to a word string\n",
    "            if index == predicted:\n",
    "                output_word = word\n",
    "                break\n",
    "        seed_text += \" \" + output_word\n",
    "        if \n",
    "    return seed_text"
   ]
  },
  {
   "cell_type": "code",
   "execution_count": null,
   "metadata": {},
   "outputs": [],
   "source": [
    "# generate your sample text\n",
    "seed_text = input('Enter your start sentence:')\n",
    "gen_text = generate_text(seed_text, max_sequence_len, tolenizer)"
   ]
  },
  {
   "cell_type": "markdown",
   "metadata": {},
   "source": [
    "#### 6. Model Tuning "
   ]
  },
  {
   "cell_type": "code",
   "execution_count": 48,
   "metadata": {},
   "outputs": [
    {
     "data": {
      "text/plain": [
       "dict_items([('the', 1), ('’', 2), ('eos', 3), ('and', 4), ('to', 5), ('a', 6), ('she', 7), ('of', 8), ('it', 9), ('said', 10), ('alice', 11), ('in', 12), ('was', 13), ('you', 14), ('i', 15), ('that', 16), ('as', 17), ('her', 18), ('at', 19), ('on', 20), ('with', 21), ('all', 22), ('had', 23), ('for', 24), ('be', 25), ('so', 26), ('very', 27), ('not', 28), ('but', 29), ('this', 30), ('little', 31), ('‘i', 32), ('they', 33), ('out', 34), ('he', 35), ('is', 36), ('down', 37), ('what', 38), ('up', 39), ('one', 40), ('his', 41), ('about', 42), ('them', 43), ('know', 44), ('like', 45), ('were', 46), ('went', 47), ('again', 48), ('herself', 49), ('then', 50), ('would', 51), ('no', 52), ('could', 53), ('have', 54), ('if', 55), ('thought', 56), ('when', 57), ('do', 58), ('or', 59), ('time', 60), ('there', 61), ('queen', 62), ('into', 63), ('see', 64), ('me', 65), ('off', 66), ('king', 67), ('did', 68), ('your', 69), ('began', 70), ('by', 71), ('its', 72), ('‘and', 73), ('way', 74), ('an', 75), ('my', 76), ('mock', 77), ('turtle', 78), ('quite', 79), ('don’t', 80), ('hatter', 81), ('gryphon', 82), ('who', 83), ('think', 84), ('say', 85), ('their', 86), ('much', 87), ('how', 88), ('some', 89), ('first', 90), ('now', 91), ('just', 92), ('head', 93), ('thing', 94), ('more', 95), ('here', 96), ('go', 97), ('voice', 98), ('are', 99), ('rabbit', 100), ('only', 101), ('looked', 102), ('which', 103), ('got', 104), ('never', 105), ('must', 106), ('get', 107), ('him', 108), ('mouse', 109), ('after', 110), ('round', 111), ('well', 112), ('over', 113), ('such', 114), ('came', 115), ('other', 116), ('‘you', 117), ('tone', 118), ('great', 119), ('i’m', 120), ('‘but', 121), ('duchess', 122), ('dormouse', 123), ('been', 124), ('any', 125), ('back', 126), ('two', 127), ('before', 128), ('from', 129), ('cat', 130), ('‘what', 131), ('can', 132), ('march', 133), ('large', 134), ('it’s', 135), ('last', 136), ('once', 137), ('long', 138), ('will', 139), ('looking', 140), ('put', 141), ('things', 142), ('right', 143), ('hare', 144), ('nothing', 145), ('made', 146), ('white', 147), ('found', 148), ('next', 149), ('door', 150), ('‘it', 151), ('heard', 152), ('day', 153), ('eyes', 154), ('moment', 155), ('come', 156), ('tell', 157), ('replied', 158), ('dear', 159), ('look', 160), ('might', 161), ('seemed', 162), ('going', 163), ('make', 164), ('good', 165), ('should', 166), ('three', 167), ('can’t', 168), ('caterpillar', 169), ('upon', 170), ('poor', 171), ('course', 172), ('too', 173), ('rather', 174), ('soon', 175), ('away', 176), ('without', 177), ('while', 178), ('yet', 179), ('took', 180), ('i’ll', 181), ('‘it’s', 182), ('‘oh', 183), ('shall', 184), ('‘well', 185), ('felt', 186), ('than', 187), ('half', 188), ('same', 189), ('won’t', 190), ('added', 191), ('getting', 192), ('another', 193), ('”', 194), ('‘why', 195), ('oh', 196), ('words', 197), ('wish', 198), ('ever', 199), ('find', 200), ('minute', 201), ('‘if', 202), ('‘the', 203), ('jury', 204), ('i’ve', 205), ('sort', 206), ('hand', 207), ('cried', 208), ('sure', 209), ('‘i’m', 210), ('feet', 211), ('take', 212), ('tried', 213), ('anything', 214), ('even', 215), ('tea', 216), ('however', 217), ('curious', 218), ('being', 219), ('till', 220), ('old', 221), ('use', 222), ('wonder', 223), ('why', 224), ('house', 225), ('end', 226), ('‘', 227), ('that’s', 228), ('table', 229), ('enough', 230), ('something', 231), ('we', 232), ('soup', 233), ('court', 234), ('spoke', 235), ('you’re', 236), ('question', 237), ('side', 238), ('sat', 239), ('asked', 240), ('”’', 241), ('ran', 242), ('under', 243), ('talking', 244), ('eat', 245), ('bit', 246), ('turned', 247), ('high', 248), ('garden', 249), ('indeed', 250), ('there’s', 251), ('hastily', 252), ('doesn’t', 253), ('‘how', 254), ('‘that’s', 255), ('seen', 256), ('near', 257), ('idea', 258), ('please', 259), ('air', 260), ('saying', 261), ('low', 262), ('knew', 263), ('face', 264), ('‘come', 265), ('gave', 266), ('am', 267), ('done', 268), ('‘that', 269), ('called', 270), ('arm', 271), ('mad', 272), ('beginning', 273), ('hear', 274), ('itself', 275), ('ought', 276), ('saw', 277), ('through', 278), ('didn’t', 279), ('perhaps', 280), ('remember', 281), ('trying', 282), ('left', 283), ('anxiously', 284), ('set', 285), ('these', 286), ('sea', 287), ('talk', 288), ('us', 289), ('both', 290), ('‘i’ve', 291), ('baby', 292), ('suddenly', 293), ('close', 294), ('let', 295), ('still', 296), ('people', 297), ('cats', 298), ('behind', 299), ('certainly', 300), ('‘no', 301), ('size', 302), ('grow', 303), ('speak', 304), ('far', 305), ('kept', 306), ('used', 307), ('change', 308), ('always', 309), ('dodo', 310), ('whole', 311), ('bill', 312), ('better', 313), ('room', 314), ('gone', 315), ('footman', 316), ('cook', 317), ('dance', 318), ('wouldn’t', 319), ('many', 320), ('among', 321), ('afraid', 322), ('every', 323), ('begin', 324), ('because', 325), ('finished', 326), ('best', 327), ('game', 328), ('hardly', 329), ('life', 330), ('deal', 331), ('queer', 332), ('everything', 333), ('try', 334), ('hands', 335), ('suppose', 336), ('silence', 337), ('‘of', 338), ('turning', 339), ('‘yes', 340), ('where', 341), ('‘then', 342), ('may', 343), ('pigeon', 344), ('majesty', 345), ('book', 346), ('mind', 347), ('whether', 348), ('hurried', 349), ('though', 350), ('glad', 351), ('ask', 352), ('dinah', 353), ('alice’s', 354), ('hurry', 355), ('waited', 356), ('minutes', 357), ('tears', 358), ('child', 359), ('makes', 360), ('growing', 361), ('chapter', 362), ('pool', 363), ('‘a', 364), ('gloves', 365), ('‘not', 366), ('‘we', 367), ('wasn’t', 368), ('beautiful', 369), ('pig', 370), ('sitting', 371), ('having', 372), ('own', 373), ('lessons', 374), ('heads', 375), ('word', 376), ('name', 377), ('else', 378), ('‘now', 379), ('sight', 380), ('walked', 381), ('glass', 382), ('small', 383), ('opened', 384), ('those', 385), ('really', 386), ('bottle', 387), ('read', 388), ('children', 389), ('box', 390), ('‘they', 391), ('foot', 392), ('yourself', 393), ('fan', 394), ('thinking', 395), ('nearly', 396), ('offended', 397), ('party', 398), ('rest', 399), ('mean', 400), ('mouth', 401), ('repeated', 402), ('they’re', 403), ('remarked', 404), ('remark', 405), ('soldiers', 406), ('witness', 407), ('either', 408), ('couldn’t', 409), ('answer', 410), ('matter', 411), ('hall', 412), ('key', 413), ('rate', 414), ('few', 415), ('waiting', 416), ('croquet', 417), ('against', 418), ('want', 419), ('give', 420), ('help', 421), ('different', 422), ('mine', 423), ('tail', 424), ('conversation', 425), ('birds', 426), ('creatures', 427), ('continued', 428), ('believe', 429), ('angrily', 430), ('shook', 431), ('least', 432), ('reason', 433), ('together', 434), ('shouted', 435), ('keep', 436), ('turn', 437), ('timidly', 438), ('puzzled', 439), ('butter', 440), ('interrupted', 441), ('knave', 442), ('join', 443), ('sister', 444), ('feel', 445), ('making', 446), ('watch', 447), ('slowly', 448), ('happen', 449), ('coming', 450), ('noticed', 451), ('top', 452), ('four', 453), ('opportunity', 454), ('distance', 455), ('seem', 456), ('‘do', 457), ('dry', 458), ('bright', 459), ('fact', 460), ('‘in', 461), ('followed', 462), ('lying', 463), ('work', 464), ('ready', 465), ('hard', 466), ('changed', 467), ('five', 468), ('live', 469), ('play', 470), ('beg', 471), ('our', 472), ('you’d', 473), ('eagerly', 474), ('meaning', 475), ('explain', 476), ('running', 477), ('story', 478), ('window', 479), ('place', 480), ('appeared', 481), ('wood', 482), ('mushroom', 483), ('haven’t', 484), ('most', 485), ('tree', 486), ('fish', 487), ('ground', 488), ('asleep', 489), ('“i', 490), ('hearts', 491), ('gardeners', 492), ('‘off', 493), ('whiting', 494), ('tired', 495), ('hot', 496), ('pocket', 497), ('world', 498), ('deep', 499), ('fall', 500), ('listen', 501), ('it’ll', 502), ('fancy', 503), ('manage', 504), ('begun', 505), ('dream', 506), ('middle', 507), ('wondering', 508), ('golden', 509), ('open', 510), ('larger', 511), ('happened', 512), ('neck', 513), ('feeling', 514), ('‘for', 515), ('leave', 516), ('generally', 517), ('eye', 518), ('surprised', 519), ('shoes', 520), ('myself', 521), ('kind', 522), ('hair', 523), ('goes', 524), ('learn', 525), ('frightened', 526), ('chin', 527), ('hadn’t', 528), ('history', 529), ('‘as', 530), ('‘are', 531), ('lory', 532), ('has', 533), ('trial', 534), ('others', 535), ('‘he', 536), ('i’d', 537), ('stood', 538), ('does', 539), ('grown', 540), ('business', 541), ('‘so', 542), ('trees', 543), ('each', 544), ('isn’t', 545), ('nose', 546), ('serpent', 547), ('draw', 548), ('silent', 549), ('pepper', 550), ('‘there’s', 551), ('pleased', 552), ('song', 553), ('bread', 554), ('queen’s', 555), ('hedgehog', 556), ('moral', 557), ('lobster', 558), ('lobsters', 559), ('oop', 560), ('tarts', 561), ('slates', 562), ('evidence', 563), ('trouble', 564), ('late', 565), ('fell', 566), ('somebody', 567), ('nice', 568), ('written', 569), ('leaves', 570), ('jumped', 571), ('roof', 572), ('inches', 573), ('along', 574), ('marked', 575), ('hold', 576), ('forgotten', 577), ('almost', 578), ('english', 579), ('‘or', 580), ('nonsense', 581), ('stop', 582), ('himself', 583), ('sir', 584), ('times', 585), ('repeat', 586), ('grin', 587), ('understand', 588), ('william', 589), ('pardon', 590), ('‘don’t', 591), ('trembling', 592), ('subject', 593), ('sit', 594), ('race', 595), ('politely', 596), ('melancholy', 597), ('liked', 598), ('exactly', 599), ('piece', 600), ('‘you’re', 601), ('nobody', 602), ('executed', 603), ('broken', 604), ('chimney', 605), ('full', 606), ('loud', 607), ('sharp', 608), ('guinea', 609), ('pigs', 610), ('puppy', 611), ('arms', 612), ('‘who', 613), ('father', 614), ('youth', 615), ('you’ve', 616), ('sneezing', 617), ('between', 618), ('told', 619), ('ear', 620), ('cheshire', 621), ('everybody', 622), ('dreadfully', 623), ('writing', 624), ('sing', 625), ('twinkle', 626), ('exclaimed', 627), ('school', 628), ('adventures', 629), ('soo', 630), ('e', 631), ('hole', 632), ('twice', 633), ('sleepy', 634), ('across', 635), ('curiosity', 636), ('passed', 637), ('home', 638), ('likely', 639), ('aloud', 640), ('walk', 641), ('new', 642), ('asking', 643), ('night', 644), ('sometimes', 645), ('walking', 646), ('ears', 647), ('sadly', 648), ('shut', 649), ('simple', 650), ('cut', 651), ('finger', 652), ('ten', 653), ('nervous', 654), ('altogether', 655), ('remembered', 656), ('‘to', 657), ('happens', 658), ('shan’t', 659), ('pair', 660), ('kid', 661), ('dropped', 662), ('usual', 663), ('morning', 664), ('seven', 665), ('wrong', 666), ('sounded', 667), ('strange', 668), ('seems', 669), ('stay', 670), ('sudden', 671), ('water', 672), ('case', 673), ('number', 674), ('swam', 675), ('nearer', 676), ('‘would', 677), ('speaking', 678), ('sentence', 679), ('shrill', 680), ('angry', 681), ('fetch', 682), ('crowded', 683), ('important', 684), ('means', 685), ('notice', 686), ('‘one', 687), ('chorus', 688), ('dare', 689), ('confusion', 690), ('call', 691), ('reply', 692), ('finish', 693), ('impatiently', 694), ('sighed', 695), ('temper', 696), ('young', 697), ('moved', 698), ('doing', 699), ('direction', 700), ('interesting', 701), ('become', 702), ('‘when', 703), ('write', 704), ('shouldn’t', 705), ('taking', 706), ('shriek', 707), ('drew', 708), ('sky', 709), ('instantly', 710), ('‘i’ll', 711), ('surprise', 712), ('lizard', 713), ('height', 714), ('quietly', 715), ('hookah', 716), ('man', 717), ('stand', 718), ('often', 719), ('eggs', 720), ('sleep', 721), ('meant', 722), ('waving', 723), ('‘very', 724), ('treacle', 725), ('faces', 726), ('procession', 727), ('pack', 728), ('knee', 729), ('whispered', 730), ('flamingo', 731), ('executioner', 732), ('evening', 733), ('pictures', 734), ('worth', 735), ('natural', 736), ('sides', 737), ('fear', 738), ('managed', 739), ('they’ll', 740), ('true', 741), ('fallen', 742), ('earth', 743), ('several', 744), ('sound', 745), ('girl', 746), ('mice', 747), ('bats', 748), ('passage', 749), ('corner', 750), ('except', 751), ('tiny', 752), ('alas', 753), ('second', 754), ('led', 755), ('shoulders', 756), ('‘which', 757), ('paper', 758), ('taught', 759), ('deeply', 760), ('drink', 761), ('ventured', 762), ('reach', 763), ('sharply', 764), ('severely', 765), ('fond', 766), ('person', 767), ('care', 768), ('nine', 769), ('until', 770), ('savage', 771), ('violently', 772), ('age', 773), ('mabel', 774), ('she’s', 775), ('puzzling', 776), ('twelve', 777), ('capital', 778), ('“’', 779), ('alone', 780), ('rabbit’s', 781), ('shrinking', 782), ('escape', 783), ('fire', 784), ('paws', 785), ('‘there', 786), ('says', 787), ('pale', 788), ('shore', 789), ('you’ll', 790), ('animals', 791), ('duck', 792), ('tale', 793), ('uncomfortable', 794), ('argument', 795), ('wanted', 796), ('frowning', 797), ('solemnly', 798), ('prizes', 799), ('pointing', 800), ('confused', 801), ('‘only', 802), ('short', 803), ('bowed', 804), ('judge', 805), ('breath', 806), ('‘please', 807), ('‘ah', 808), ('‘hold', 809), ('tongue', 810), ('particular', 811), ('since', 812), ('swim', 813), ('vanished', 814), ('ann', 815), ('run', 816), ('chance', 817), ('answered', 818), ('outside', 819), ('‘sure', 820), ('yer', 821), ('honour', 822), ('sounds', 823), ('hearing', 824), ('bill’s', 825), ('slate', 826), ('master', 827), ('fellow', 828), ('dead', 829), ('doubt', 830), ('lay', 831), ('crowd', 832), ('held', 833), ('‘is', 834), ('plan', 835), ('difficulty', 836), ('stick', 837), ('grass', 838), ('perfectly', 839), ('none', 840), ('questions', 841), ('decidedly', 842), ('thoughtfully', 843), ('green', 844), ('screamed', 845), ('indignantly', 846), ('taken', 847), ('otherwise', 848), ('dish', 849), ('days', 850), ('kitchen', 851), ('jumping', 852), ('carried', 853), ('hours', 854), ('busily', 855), ('beat', 856), ('wow', 857), ('verse', 858), ('creature', 859), ('grunted', 860), ('less', 861), ('‘call', 862), ('‘i’d', 863), ('fast', 864), ('shoulder', 865), ('twinkling', 866), ('sigh', 867), ('bottom', 868), ('begins', 869), ('m', 870), ('rose', 871), ('rule', 872), ('‘she', 873), ('arches', 874), ('players', 875), ('hers', 876), ('quadrille', 877), ('sobs', 878), ('porpoise', 879), ('mouths', 880), ('beau', 881), ('ootiful', 882), ('jurors', 883), ('verdict', 884), ('officers', 885), ('suppressed', 886), ('jurymen', 887), ('‘nothing', 888), ('verses', 889), ('bank', 890), ('peeped', 891), ('reading', 892), ('considering', 893), ('stupid', 894), ('dark', 895), ('filled', 896), ('past', 897), ('stairs', 898), ('miles', 899), ('somewhere', 900), ('knowledge', 901), ('grand', 902), ('funny', 903), ('listening', 904), ('she’ll', 905), ('miss', 906), ('hope', 907), ('catch', 908), ('bat', 909), ('hurt', 910), ('lost', 911), ('whiskers', 912), ('longer', 913), ('hanging', 914), ('delight', 915), ('telescope', 916), ('impossible', 917), ('hoping', 918), ('rules', 919), ('‘drink', 920), ('red', 921), ('knife', 922), ('certain', 923), ('later', 924), ('finding', 925), ('further', 926), ('candle', 927), ('decided', 928), ('possibly', 929), ('legs', 930), ('cake', 931), ('smaller', 932), ('holding', 933), ('remained', 934), ('expecting', 935), ('dull', 936), ('opening', 937), ('dears', 938), ('boots', 939), ('directions', 940), ('love', 941), ('cry', 942), ('pattering', 943), ('muttering', 944), ('timid', 945), ('yesterday', 946), ('sorts', 947), ('besides', 948), ('let’s', 949), ('doth', 950), ('crossed', 951), ('hoarse', 952), ('spread', 953), ('gently', 954), ('putting', 955), ('guess', 956), ('cause', 957), ('worse', 958), ('slipped', 959), ('general', 960), ('digging', 961), ('‘perhaps', 962), ('french', 963), ('notion', 964), ('lesson', 965), ('show', 966), ('washing', 967), ('nurse', 968), ('dogs', 969), ('throw', 970), ('passion', 971), ('‘let', 972), ('eaglet', 973), ('caucus', 974), ('fur', 975), ('cross', 976), ('sulky', 977), ('‘did', 978), ('frog', 979), ('crown', 980), ('move', 981), ('pressed', 982), ('voices', 983), ('handed', 984), ('gravely', 985), ('thimble', 986), ('speech', 987), ('cheered', 988), ('grave', 989), ('simply', 990), ('solemn', 991), ('noise', 992), ('choked', 993), ('whisper', 994), ('sad', 995), ('sighing', 996), ('met', 997), ('attending', 998), ('pleaded', 999), ('easily', 1000), ('joined', 1001), ('pity', 1002), ('crab', 1003), ('venture', 1004), ('carefully', 1005), ('remarking', 1006), ('suit', 1007), ('mentioned', 1008), ('guessed', 1009), ('hunting', 1010), ('mary', 1011), ('mistake', 1012), ('plate', 1013), ('knocking', 1014), ('real', 1015), ('they’d', 1016), ('floor', 1017), ('effect', 1018), ('elbow', 1019), ('whatever', 1020), ('ordered', 1021), ('‘at', 1022), ('stopped', 1023), ('forgetting', 1024), ('crash', 1025), ('‘here', 1026), ('‘em', 1027), ('below', 1028), ('kick', 1029), ('above', 1030), ('‘this', 1031), ('sense', 1032), ('moving', 1033), ('cakes', 1034), ('paw', 1035), ('hungry', 1036), ('picked', 1037), ('edge', 1038), ('immediately', 1039), ('folded', 1040), ('present', 1041), ('‘because', 1042), ('confusing', 1043), ('‘all', 1044), ('brought', 1045), ('remarks', 1046), ('“you', 1047), ('stuff', 1048), ('free', 1049), ('shaking', 1050), ('succeeded', 1051), ('serpents', 1052), ('girls', 1053), ('tasted', 1054), ('yours', 1055), ('settled', 1056), ('pieces', 1057), ('nibbling', 1058), ('bringing', 1059), ('livery', 1060), ('considered', 1061), ('loudly', 1062), ('letter', 1063), ('order', 1064), ('staring', 1065), ('howling', 1066), ('instance', 1067), ('repeating', 1068), ('nursing', 1069), ('courage', 1070), ('grinned', 1071), ('growl', 1072), ('faster', 1073), ('advantage', 1074), ('‘just', 1075), ('boy', 1076), ('tossing', 1077), ('caught', 1078), ('shaped', 1079), ('proper', 1080), ('‘they’re', 1081), ('sobbing', 1082), ('instead', 1083), ('‘have', 1084), ('civil', 1085), ('fun', 1086), ('crumbs', 1087), ('o’clock', 1088), ('‘what’s', 1089), ('cautiously', 1090), ('music', 1091), ('fly', 1092), ('lady', 1093), ('‘tell', 1094), ('lived', 1095), ('upset', 1096), ('‘really', 1097), ('roses', 1098), ('beheaded', 1099), ('watching', 1100), ('checked', 1101), ('themselves', 1102), ('eager', 1103), ('guests', 1104), ('cards', 1105), ('needn’t', 1106), ('‘consider', 1107), ('unfortunate', 1108), ('‘she’s', 1109), ('execution', 1110), ('hedgehogs', 1111), ('tucked', 1112), ('turns', 1113), ('alive', 1114), ('friend', 1115), ('anxious', 1116), ('mustard', 1117), ('duchess’s', 1118), ('‘thank', 1119), ('tortoise', 1120), ('drawling', 1121), ('week', 1122), ('figure', 1123), ('toes', 1124), ('mark', 1125), ('snail', 1126), ('tails', 1127), ('obliged', 1128), ('follows', 1129), ('around', 1130), ('owl', 1131), ('panther', 1132), ('pie', 1133), ('trial’s', 1134), ('trumpet', 1135), ('‘stupid', 1136), ('spectacles', 1137), ('teacup', 1138), ('wrote', 1139), ('‘give', 1140), ('list', 1141), ('‘unimportant', 1142), ('fit', 1143), ('conversations', 1144), ('pleasure', 1145), ('picking', 1146), ('remarkable', 1147), ('nor', 1148), ('afterwards', 1149), ('occurred', 1150), ('waistcoat', 1151), ('started', 1152), ('hedge', 1153), ('straight', 1154), ('dipped', 1155), ('falling', 1156), ('plenty', 1157), ('cupboards', 1158), ('shelves', 1159), ('jar', 1160), ('‘after', 1161), ('tumbling', 1162), ('thousand', 1163), ('learnt', 1164), ('showing', 1165), ('latitude', 1166), ('longitude', 1167), ('presently', 1168), ('milk', 1169), ('earnestly', 1170), ('thump', 1171), ('wind', 1172), ('row', 1173), ('doors', 1174), ('legged', 1175), ('locks', 1176), ('longed', 1177), ('beds', 1178), ('flowers', 1179), ('cool', 1180), ('fountains', 1181), ('shutting', 1182), ('label', 1183), ('me’', 1184), ('beautifully', 1185), ('wise', 1186), ('wild', 1187), ('beasts', 1188), ('unpleasant', 1189), ('friends', 1190), ('burn', 1191), ('usually', 1192), ('‘poison', 1193), ('sooner', 1194), ('taste', 1195), ('mixed', 1196), ('brightened', 1197), ('lovely', 1198), ('crying', 1199), ('advice', 1200), ('bring', 1201), ('playing', 1202), ('forgot', 1203), ('bye', 1204), ('sending', 1205), ('presents', 1206), ('struck', 1207), ('ashamed', 1208), ('trotting', 1209), ('ringlets', 1210), ('knows', 1211), ('six', 1212), ('twenty', 1213), ('paris', 1214), ('rome', 1215), ('“how', 1216), ('lap', 1217), ('neatly', 1218), ('claws', 1219), ('smiling', 1220), ('jaws', 1221), ('“come', 1222), ('rapidly', 1223), ('narrow', 1224), ('declare', 1225), ('bad', 1226), ('salt', 1227), ('railway', 1228), ('conclusion', 1229), ('wherever', 1230), ('splashing', 1231), ('swimming', 1232), ('o', 1233), ('wink', 1234), ('conqueror', 1235), ('clear', 1236), ('ago', 1237), ('ma', 1238), ('fright', 1239), ('feelings', 1240), ('quiet', 1241), ('purring', 1242), ('nicely', 1243), ('catching', 1244), ('dog', 1245), ('brown', 1246), ('dinner', 1247), ('belongs', 1248), ('useful', 1249), ('sorrowful', 1250), ('hate', 1251), ('assembled', 1252), ('wet', 1253), ('older', 1254), ('allow', 1255), ('knowing', 1256), ('authority', 1257), ('‘sit', 1258), ('ring', 1259), ('whose', 1260), ('morcar', 1261), ('earls', 1262), ('mercia', 1263), ('northumbria', 1264), ('proceed', 1265), ('archbishop', 1266), ('advisable', 1267), ('‘found', 1268), ('“it”', 1269), ('hurriedly', 1270), ('meet', 1271), ('offer', 1272), ('‘speak', 1273), ('what’s', 1274), ('smile', 1275), ('easy', 1276), ('hour', 1277), ('panting', 1278), ('won', 1279), ('forehead', 1280), ('position', 1281), ('‘everybody', 1282), ('comfits', 1283), ('luckily', 1284), ('absurd', 1285), ('caused', 1286), ('law', 1287), ('wasting', 1288), ('“i’ll', 1289), ('fury', 1290), ('humbly', 1291), ('bend', 1292), ('knot', 1293), ('bird', 1294), ('sensation', 1295), ('throat', 1296), ('‘nobody', 1297), ('lonely', 1298), ('footsteps', 1299), ('ferrets', 1300), ('nowhere', 1301), ('quick', 1302), ('messages', 1303), ('directly', 1304), ('ordering', 1305), ('drunk', 1306), ('stoop', 1307), ('curled', 1308), ('unhappy', 1309), ('fancied', 1310), ('‘shall', 1311), ('woman', 1312), ('books', 1313), ('‘fetch', 1314), ('trembled', 1315), ('proved', 1316), ('snatch', 1317), ('concluded', 1318), ('cucumber', 1319), ('pat', 1320), ('apples', 1321), ('goose', 1322), ('bear', 1323), ('feeble', 1324), ('squeaking', 1325), ('comes', 1326), ('barrowful', 1327), ('shower', 1328), ('pebbles', 1329), ('rattling', 1330), ('hit', 1331), ('‘you’d', 1332), ('delighted', 1333), ('giving', 1334), ('rush', 1335), ('safe', 1336), ('wandered', 1337), ('excellent', 1338), ('smallest', 1339), ('bark', 1340), ('stretching', 1341), ('coaxing', 1342), ('thistle', 1343), ('stretched', 1344), ('tiptoe', 1345), ('smoking', 1346), ('addressed', 1347), ('encouraging', 1348), ('‘explain', 1349), ('contemptuously', 1350), ('anger', 1351), ('unfolded', 1352), ('busy', 1353), ('somersault', 1354), ('pray', 1355), ('sell', 1356), ('weak', 1357), ('lasted', 1358), ('eel', 1359), ('clever', 1360), ('changing', 1361), ('wretched', 1362), ('‘you’ll', 1363), ('patiently', 1364), ('chose', 1365), ('yawned', 1366), ('merely', 1367), ('taller', 1368), ('shorter', 1369), ('difficult', 1370), ('broke', 1371), ('nibbled', 1372), ('violent', 1373), ('blow', 1374), ('lefthand', 1375), ('alarm', 1376), ('follow', 1377), ('distant', 1378), ('wandering', 1379), ('beating', 1380), ('‘serpent', 1381), ('roots', 1382), ('doubtfully', 1383), ('changes', 1384), ('telling', 1385), ('matters', 1386), ('entangled', 1387), ('branches', 1388), ('lives', 1389), ('invitation', 1390), ('laughed', 1391), ('secondly', 1392), ('inside', 1393), ('extraordinary', 1394), ('within', 1395), ('constant', 1396), ('‘till', 1397), ('maybe', 1398), ('dreadful', 1399), ('muttered', 1400), ('leaning', 1401), ('stirring', 1402), ('cauldron', 1403), ('moment’s', 1404), ('pause', 1405), ('sneeze', 1406), ('introduce', 1407), ('throwing', 1408), ('plates', 1409), ('dishes', 1410), ('already', 1411), ('takes', 1412), ('hint', 1413), ('singing', 1414), ('line', 1415), ('sneezes', 1416), ('‘wow', 1417), ('sang', 1418), ('thoroughly', 1419), ('threw', 1420), ('missed', 1421), ('twist', 1422), ('also', 1423), ('extremely', 1424), ('neither', 1425), ('ugly', 1426), ('startled', 1427), ('explanation', 1428), ('denied', 1429), ('‘lives', 1430), ('invited', 1431), ('became', 1432), ('appear', 1433), ('raving', 1434), ('giddy', 1435), ('ending', 1436), ('raised', 1437), ('‘suppose', 1438), ('front', 1439), ('using', 1440), ('cushion', 1441), ('resting', 1442), ('wine', 1443), ('laid', 1444), ('‘your', 1445), ('wants', 1446), ('personal', 1447), ('rude', 1448), ('wide', 1449), ('riddles', 1450), ('‘exactly', 1451), ('breathe', 1452), ('break', 1453), ('month', 1454), ('uneasily', 1455), ('‘two', 1456), ('meekly', 1457), ('cup', 1458), ('tells', 1459), ('‘does', 1460), ('year', 1461), ('clock', 1462), ('spoon', 1463), ('concert', 1464), ('pinch', 1465), ('we’ve', 1466), ('wash', 1467), ('yawning', 1468), ('‘wake', 1469), ('pinched', 1470), ('‘once', 1471), ('sisters', 1472), ('names', 1473), ('ill', 1474), ('‘take', 1475), ('triumphantly', 1476), ('sulkily', 1477), ('learning', 1478), ('‘treacle', 1479), ('‘let’s', 1480), ('interrupting', 1481), ('rubbing', 1482), ('manner', 1483), ('closed', 1484), ('muchness', 1485), ('flower', 1486), ('painting', 1487), ('flat', 1488), ('carrying', 1489), ('courtiers', 1490), ('ornamented', 1491), ('royal', 1492), ('mostly', 1493), ('king’s', 1494), ('crimson', 1495), ('doubtful', 1496), ('lie', 1497), ('smiled', 1498), ('‘my', 1499), ('‘turn', 1500), ('‘get', 1501), ('‘leave', 1502), ('fine', 1503), ('hush', 1504), ('“what', 1505), ('scream', 1506), ('places', 1507), ('body', 1508), ('laughing', 1509), ('unrolled', 1510), ('quarrelling', 1511), ('stamping', 1512), ('shouting', 1513), ('dispute', 1514), ('cat’s', 1515), ('removed', 1516), ('fight', 1517), ('collected', 1518), ('entirely', 1519), ('disappeared', 1520), ('wildly', 1521), ('turtle’s', 1522), ('tempered', 1523), ('sugar', 1524), ('forget', 1525), ('hasn’t', 1526), ('keeping', 1527), ('‘’tis', 1528), ('‘tis', 1529), ('experiment', 1530), ('bite', 1531), ('agree', 1532), ('imagine', 1533), ('choice', 1534), ('custody', 1535), ('executions', 1536), ('sun', 1537), ('watched', 1538), ('heart', 1539), ('sorrow', 1540), ('heavy', 1541), ('proud', 1542), ('relief', 1543), ('regular', 1544), ('mystery', 1545), ('recovered', 1546), ('delightful', 1547), ('turtles', 1548), ('advance', 1549), ('dancing', 1550), ('treading', 1551), ('kindly', 1552), ('“there', 1553), ('dinn', 1554), ('thoughts', 1555), ('part', 1556), ('editions', 1557), ('tones', 1558), ('‘go', 1559), ('persisted', 1560), ('‘beautiful', 1561), ('cares', 1562), ('pennyworth', 1563), ('stole', 1564), ('scroll', 1565), ('parchment', 1566), ('wig', 1567), ('‘silence', 1568), ('pencil', 1569), ('quickly', 1570), ('blew', 1571), ('blasts', 1572), ('summer', 1573), ('sent', 1574), ('fashion', 1575), ('singers', 1576), ('deny', 1577), ('miserable', 1578), ('examine', 1579), ('‘never', 1580), ('undertone', 1581), ('goldfish', 1582), ('accident', 1583), ('‘important', 1584), ('unimportant', 1585), ('note', 1586), ('mile', 1587), ('directed', 1588), ('signed', 1589), ('proves', 1590), ('returned', 1591), ('atom', 1592), ('wonderful', 1593), ('teacups', 1594), ('wonderland', 1595), ('\\ufeffchapter', 1596), ('‘without', 1597), ('daisy', 1598), ('chain', 1599), ('daisies', 1600), ('pink', 1601), ('wondered', 1602), ('actually', 1603), ('flashed', 1604), ('burning', 1605), ('field', 1606), ('fortunately', 1607), ('pop', 1608), ('tunnel', 1609), ('stopping', 1610), ('maps', 1611), ('hung', 1612), ('pegs', 1613), ('labelled', 1614), ('‘orange', 1615), ('marmalade’', 1616), ('disappointment', 1617), ('empty', 1618), ('drop', 1619), ('killing', 1620), ('brave', 1621), ('centre', 1622), ('schoolroom', 1623), ('practice', 1624), ('yes', 1625), ('downward', 1626), ('antipathies', 1627), ('country', 1628), ('ma’am', 1629), ('zealand', 1630), ('australia', 1631), ('curtsey', 1632), ('curtseying', 1633), ('ignorant', 1634), ('‘dinah’ll', 1635), ('saucer', 1636), ('dreamy', 1637), ('dozing', 1638), ('truth', 1639), ('heap', 1640), ('sticks', 1641), ('overhead', 1642), ('hurrying', 1643), ('lit', 1644), ('lamps', 1645), ('locked', 1646), ('solid', 1647), ('belong', 1648), ('curtain', 1649), ('fifteen', 1650), ('lock', 1651), ('fitted', 1652), ('rat', 1653), ('knelt', 1654), ('loveliest', 1655), ('wander', 1656), ('doorway', 1657), ('lately', 1658), ('telescopes', 1659), ('printed', 1660), ('letters', 1661), ('“poison”', 1662), ('not’', 1663), ('histories', 1664), ('burnt', 1665), ('eaten', 1666), ('poker', 1667), ('bleeds', 1668), ('disagree', 1669), ('flavour', 1670), ('cherry', 1671), ('tart', 1672), ('custard', 1673), ('pine', 1674), ('apple', 1675), ('roast', 1676), ('turkey', 1677), ('toffee', 1678), ('buttered', 1679), ('toast', 1680), ('shrink', 1681), ('flame', 1682), ('blown', 1683), ('plainly', 1684), ('climb', 1685), ('slippery', 1686), ('advise', 1687), ('seldom', 1688), ('scolded', 1689), ('cheated', 1690), ('pretending', 1691), ('pretend', 1692), ('respectable', 1693), ('‘eat', 1694), ('currants', 1695), ('creep', 1696), ('ate', 1697), ('eats', 1698), ('common', 1699), ('ii', 1700), ('‘curiouser', 1701), ('curiouser', 1702), ('largest', 1703), ('stockings', 1704), ('able', 1705), ('christmas', 1706), ('planning', 1707), ('carrier', 1708), ('one’s', 1709), ('odd', 1710), ('esq', 1711), ('hearthrug', 1712), ('fender', 1713), ('hopeless', 1714), ('shedding', 1715), ('gallons', 1716), ('reaching', 1717), ('dried', 1718), ('returning', 1719), ('splendidly', 1720), ('dressed', 1721), ('desperate', 1722), ('skurried', 1723), ('darkness', 1724), ('fanning', 1725), ('‘dear', 1726), ('ah', 1727), ('puzzle', 1728), ('ada', 1729), ('thirteen', 1730), ('multiplication', 1731), ('signify', 1732), ('geography', 1733), ('london', 1734), ('crocodile', 1735), ('improve', 1736), ('shining', 1737), ('pour', 1738), ('waters', 1739), ('nile', 1740), ('scale', 1741), ('cheerfully', 1742), ('welcome', 1743), ('fishes', 1744), ('poky', 1745), ('toys', 1746), ('“who', 1747), ('else”', 1748), ('burst', 1749), ('measure', 1750), ('avoid', 1751), ('existence', 1752), ('speed', 1753), ('splash', 1754), ('somehow', 1755), ('seaside', 1756), ('coast', 1757), ('bathing', 1758), ('machines', 1759), ('sand', 1760), ('wooden', 1761), ('spades', 1762), ('lodging', 1763), ('houses', 1764), ('station', 1765), ('wept', 1766), ('punished', 1767), ('drowned', 1768), ('walrus', 1769), ('hippopotamus', 1770), ('harm', 1771), ('‘o', 1772), ('brother’s', 1773), ('latin', 1774), ('grammar', 1775), ('inquisitively', 1776), ('daresay', 1777), ('‘ou', 1778), ('est', 1779), ('chatte', 1780), ('leap', 1781), ('quiver', 1782), ('animal’s', 1783), ('passionate', 1784), ('soothing', 1785), ('lazily', 1786), ('sits', 1787), ('licking', 1788), ('soft', 1789), ('bristling', 1790), ('family', 1791), ('hated', 1792), ('nasty', 1793), ('vulgar', 1794), ('eyed', 1795), ('terrier', 1796), ('curly', 1797), ('farmer', 1798), ('hundred', 1799), ('pounds', 1800), ('kills', 1801), ('rats', 1802), ('commotion', 1803), ('softly', 1804), ('‘mouse', 1805), ('iii', 1806), ('draggled', 1807), ('feathers', 1808), ('clinging', 1809), ('dripping', 1810), ('consultation', 1811), ('familiarly', 1812), ('known', 1813), ('better’', 1814), ('positively', 1815), ('refused', 1816), ('fixed', 1817), ('cold', 1818), ('‘ahem', 1819), ('driest', 1820), ('“william', 1821), ('favoured', 1822), ('pope', 1823), ('submitted', 1824), ('leaders', 1825), ('accustomed', 1826), ('usurpation', 1827), ('conquest', 1828), ('edwin', 1829), ('‘ugh', 1830), ('shiver', 1831), ('“edwin', 1832), ('declared', 1833), ('stigand', 1834), ('patriotic', 1835), ('canterbury', 1836), ('crossly', 1837), ('worm', 1838), ('‘“', 1839), ('edgar', 1840), ('atheling', 1841), ('william’s', 1842), ('conduct', 1843), ('moderate', 1844), ('insolence', 1845), ('normans', 1846), ('rising', 1847), ('meeting', 1848), ('adjourn', 1849), ('immediate', 1850), ('adoption', 1851), ('energetic', 1852), ('remedies', 1853), ('bent', 1854), ('hide', 1855), ('tittered', 1856), ('audibly', 1857), ('‘was', 1858), ('paused', 1859), ('inclined', 1860), ('winter', 1861), ('circle', 1862), ('exact', 1863), ('shape', 1864), ('placed', 1865), ('shakespeare', 1866), ('calling', 1867), ('‘prizes', 1868), ('despair', 1869), ('pulled', 1870), ('prize', 1871), ('‘hand', 1872), ('presented', 1873), ('acceptance', 1874), ('elegant', 1875), ('thimble’', 1876), ('laugh', 1877), ('complained', 1878), ('theirs', 1879), ('ones', 1880), ('patted', 1881), ('begged', 1882), ('promised', 1883), ('c', 1884), ('d', 1885), ('‘mine', 1886), ('mouse’s', 1887), ('‘fury', 1888), ('“let', 1889), ('prosecute', 1890), ('denial', 1891), ('cur', 1892), ('“such', 1893), ('cunning', 1894), ('condemn', 1895), ('death', 1896), ('fifth', 1897), ('undo', 1898), ('insult', 1899), ('growled', 1900), ('quicker', 1901), ('daughter', 1902), ('lose', 1903), ('snappishly', 1904), ('patience', 1905), ('oyster', 1906), ('addressing', 1907), ('‘she’d', 1908), ('pet', 1909), ('‘dinah’s', 1910), ('magpie', 1911), ('wrapping', 1912), ('canary', 1913), ('bed', 1914), ('various', 1915), ('pretexts', 1916), ('spirited', 1917), ('iv', 1918), ('sends', 1919), ('naturedly', 1920), ('completely', 1921), ('pointed', 1922), ('housemaid', 1923), ('he’ll', 1924), ('finds', 1925), ('neat', 1926), ('brass', 1927), ('‘w', 1928), ('rabbit’', 1929), ('engraved', 1930), ('upstairs', 1931), ('lest', 1932), ('dinah’ll', 1933), ('fancying', 1934), ('‘“miss', 1935), ('“coming', 1936), ('tidy', 1937), ('hoped', 1938), ('pairs', 1939), ('nevertheless', 1940), ('uncorked', 1941), ('lips', 1942), ('‘whenever', 1943), ('expected', 1944), ('pressing', 1945), ('ceiling', 1946), ('save', 1947), ('kneel', 1948), ('resource', 1949), ('magic', 1950), ('grew', 1951), ('pleasanter', 1952), ('rabbits', 1953), ('fairy', 1954), ('tales', 1955), ('that’ll', 1956), ('comfort', 1957), ('foolish', 1958), ('‘mary', 1959), ('inwards', 1960), ('attempt', 1961), ('failure', 1962), ('won’t’', 1963), ('possible', 1964), ('frame', 1965), ('‘pat', 1966), ('‘digging', 1967), ('pronounced', 1968), ('‘arrum', 1969), ('‘an', 1970), ('fills', 1971), ('whispers', 1972), ('coward', 1973), ('shrieks', 1974), ('frames', 1975), ('pulling', 1976), ('rumbling', 1977), ('cartwheels', 1978), ('‘where’s', 1979), ('ladder', 1980), ('lad', 1981), ('tie', 1982), ('rope', 1983), ('loose', 1984), ('who’s', 1985), ('nay', 1986), ('‘shy', 1987), ('fireplace', 1988), ('animal', 1989), ('scratching', 1990), ('scrambling', 1991), ('‘catch', 1992), ('brandy', 1993), ('choke', 1994), ('thank', 1995), ('ye', 1996), ('flustered', 1997), ('jack', 1998), ('rocket', 1999), ('produced', 2000), ('swallowed', 2001), ('thick', 2002), ('arranged', 2003), ('peering', 2004), ('enormous', 2005), ('feebly', 2006), ('touch', 2007), ('‘poor', 2008), ('whistle', 2009), ('terribly', 2010), ('spite', 2011), ('whereupon', 2012), ('yelp', 2013), ('rushed', 2014), ('worry', 2015), ('dodged', 2016), ('tumbled', 2017), ('heels', 2018), ('cart', 2019), ('horse', 2020), ('trampled', 2021), ('series', 2022), ('charges', 2023), ('forwards', 2024), ('barking', 2025), ('hoarsely', 2026), ('puppy’s', 2027), ('faint', 2028), ('leant', 2029), ('buttercup', 2030), ('fanned', 2031), ('teaching', 2032), ('tricks', 2033), ('blades', 2034), ('circumstances', 2035), ('v', 2036), ('languid', 2037), ('shyly', 2038), ('sternly', 2039), ('sir’', 2040), ('clearly', 2041), ('sizes', 2042), ('chrysalis', 2043), ('butterfly', 2044), ('irritated', 2045), ('caterpillar’s', 2046), ('state', 2047), ('promising', 2048), ('‘keep', 2049), ('swallowing', 2050), ('wait', 2051), ('puffed', 2052), ('‘can’t', 2053), ('bee', 2054), ('‘repeat', 2055), ('incessantly', 2056), ('son', 2057), ('feared', 2058), ('injure', 2059), ('brain', 2060), ('uncommonly', 2061), ('fat', 2062), ('sage', 2063), ('grey', 2064), ('limbs', 2065), ('supple', 2066), ('ointment', 2067), ('shilling', 2068), ('couple', 2069), ('tougher', 2070), ('suet', 2071), ('bones', 2072), ('beak', 2073), ('argued', 2074), ('wife', 2075), ('muscular', 2076), ('strength', 2077), ('jaw', 2078), ('steady', 2079), ('balanced', 2080), ('awfully', 2081), ('airs', 2082), ('‘some', 2083), ('altered', 2084), ('contradicted', 2085), ('losing', 2086), ('content', 2087), ('‘three', 2088), ('rearing', 2089), ('upright', 2090), ('piteous', 2091), ('crawled', 2092), ('underneath', 2093), ('closely', 2094), ('swallow', 2095), ('morsel', 2096), ('head’s', 2097), ('immense', 2098), ('length', 2099), ('rise', 2100), ('stalk', 2101), ('result', 2102), ('curving', 2103), ('graceful', 2104), ('zigzag', 2105), ('dive', 2106), ('tops', 2107), ('hiss', 2108), ('flown', 2109), ('wings', 2110), ('subdued', 2111), ('sob', 2112), ('banks', 2113), ('hedges', 2114), ('pleasing', 2115), ('hatching', 2116), ('weeks', 2117), ('sorry', 2118), ('annoyed', 2119), ('highest', 2120), ('raising', 2121), ('needs', 2122), ('wriggling', 2123), ('ugh', 2124), ('invent', 2125), ('deepest', 2126), ('contempt', 2127), ('denying', 2128), ('egg', 2129), ('truthful', 2130), ('adding', 2131), ('raw', 2132), ('nest', 2133), ('crouched', 2134), ('untwist', 2135), ('‘whoever', 2136), ('‘it’ll', 2137), ('frighten', 2138), ('wits', 2139), ('righthand', 2140), ('vi', 2141), ('judging', 2142), ('rapped', 2143), ('knuckles', 2144), ('footmen', 2145), ('powdered', 2146), ('crept', 2147), ('producing', 2148), ('‘from', 2149), ('curls', 2150), ('stupidly', 2151), ('knocked', 2152), ('reasons', 2153), ('kettle', 2154), ('knock', 2155), ('uncivil', 2156), ('‘his', 2157), ('tomorrow', 2158), ('skimming', 2159), ('footman’s', 2160), ('grazed', 2161), ('louder', 2162), ('argue', 2163), ('drive', 2164), ('crazy', 2165), ('variations', 2166), ('‘on', 2167), ('‘anything', 2168), ('whistling', 2169), ('desperately', 2170), ('‘he’s', 2171), ('idiotic', 2172), ('smoke', 2173), ('stool', 2174), ('sneezed', 2175), ('occasionally', 2176), ('alternately', 2177), ('hearth', 2178), ('grinning', 2179), ('manners', 2180), ('grins', 2181), ('violence', 2182), ('fix', 2183), ('irons', 2184), ('saucepans', 2185), ('blows', 2186), ('agony', 2187), ('terror', 2188), ('precious', 2189), ('nose’', 2190), ('unusually', 2191), ('saucepan', 2192), ('flew', 2193), ('minded', 2194), ('axis', 2195), ('‘talking', 2196), ('axes', 2197), ('‘chop', 2198), ('glanced', 2199), ('‘twenty', 2200), ('bother', 2201), ('abide', 2202), ('figures', 2203), ('lullaby', 2204), ('shake', 2205), ('roughly', 2206), ('annoy', 2207), ('teases', 2208), ('howled', 2209), ('enjoy', 2210), ('pleases', 2211), ('flinging', 2212), ('frying', 2213), ('pan', 2214), ('star', 2215), ('snorting', 2216), ('steam', 2217), ('engine', 2218), ('doubling', 2219), ('straightening', 2220), ('tight', 2221), ('prevent', 2222), ('undoing', 2223), ('kill', 2224), ('murder', 2225), ('grunt', 2226), ('expressing', 2227), ('snout', 2228), ('seriously', 2229), ('sobbed', 2230), ('carry', 2231), ('relieved', 2232), ('trot', 2233), ('handsome', 2234), ('seeing', 2235), ('bough', 2236), ('yards', 2237), ('natured', 2238), ('teeth', 2239), ('treated', 2240), ('respect', 2241), ('‘cheshire', 2242), ('puss', 2243), ('wider', 2244), ('depends', 2245), ('visit', 2246), ('‘we’re', 2247), ('dog’s', 2248), ('grant', 2249), ('growls', 2250), ('wags', 2251), ('wag', 2252), ('therefore', 2253), ('growling', 2254), ('happening', 2255), ('‘by', 2256), ('hatters', 2257), ('branch', 2258), ('fig', 2259), ('appearing', 2260), ('vanishing', 2261), ('farther', 2262), ('chimneys', 2263), ('thatched', 2264), ('towards', 2265), ('vii', 2266), ('elbows', 2267), ('chair', 2268), ('cutting', 2269), ('severity', 2270), ('raven', 2271), ('desk', 2272), ('they’ve', 2273), ('eat”', 2274), ('see”', 2275), ('get”', 2276), ('like”', 2277), ('sleep”', 2278), ('breathe”', 2279), ('ravens', 2280), ('desks', 2281), ('fourth', 2282), ('works', 2283), ('grumbled', 2284), ('gloomily', 2285), ('readily', 2286), ('stays', 2287), ('hatter’s', 2288), ('poured', 2289), ('riddle', 2290), ('slightest', 2291), ('‘nor', 2292), ('wearily', 2293), ('‘than', 2294), ('waste', 2295), ('answers', 2296), ('accounts', 2297), ('terms', 2298), ('he’d', 2299), ('mournfully', 2300), ('quarrelled', 2301), ('given', 2302), ('“twinkle', 2303), ('“up', 2304), ('tray', 2305), ('‘twinkle', 2306), ('bawled', 2307), ('“he’s', 2308), ('murdering', 2309), ('mournful', 2310), ('whiles', 2311), ('vote', 2312), ('alarmed', 2313), ('proposal', 2314), ('fellows', 2315), ('elsie', 2316), ('lacie', 2317), ('tillie', 2318), ('interest', 2319), ('eating', 2320), ('drinking', 2321), ('‘they’d', 2322), ('ways', 2323), ('living', 2324), ('opinion', 2325), ('‘who’s', 2326), ('helped', 2327), ('‘sh', 2328), ('sh', 2329), ('interrupt', 2330), ('consented', 2331), ('promise', 2332), ('clean', 2333), ('dormouse’s', 2334), ('unwillingly', 2335), ('jug', 2336), ('offend', 2337), ('eh', 2338), ('choosing', 2339), ('were’', 2340), ('doze', 2341), ('woke', 2342), ('traps', 2343), ('moon', 2344), ('memory', 2345), ('“much', 2346), ('muchness”', 2347), ('drawing', 2348), ('rudeness', 2349), ('disgust', 2350), ('teapot', 2351), ('stupidest', 2352), ('leading', 2353), ('everything’s', 2354), ('today', 2355), ('unlocking', 2356), ('viii', 2357), ('entrance', 2358), ('‘look', 2359), ('paint', 2360), ('‘seven', 2361), ('jogged', 2362), ('blame', 2363), ('deserved', 2364), ('spoken', 2365), ('tulip', 2366), ('onions', 2367), ('flung', 2368), ('brush', 2369), ('unjust', 2370), ('chanced', 2371), ('we’re', 2372), ('afore', 2373), ('clubs', 2374), ('oblong', 2375), ('corners', 2376), ('diamonds', 2377), ('merrily', 2378), ('couples', 2379), ('kings', 2380), ('queens', 2381), ('recognised', 2382), ('noticing', 2383), ('velvet', 2384), ('processions', 2385), ('opposite', 2386), ('‘idiot', 2387), ('rosetree', 2388), ('pattern', 2389), ('backs', 2390), ('glaring', 2391), ('beast', 2392), ('‘nonsense', 2393), ('bowing', 2394), ('‘may', 2395), ('humble', 2396), ('meanwhile', 2397), ('examining', 2398), ('remaining', 2399), ('execute', 2400), ('protection', 2401), ('pot', 2402), ('marched', 2403), ('‘their', 2404), ('‘can', 2405), ('evidently', 2406), ('roared', 2407), ('peeping', 2408), ('where’s', 2409), ('‘hush', 2410), ('boxed', 2411), ('laughter', 2412), ('thunder', 2413), ('ridges', 2414), ('furrows', 2415), ('balls', 2416), ('mallets', 2417), ('flamingoes', 2418), ('double', 2419), ('chief', 2420), ('managing', 2421), ('comfortably', 2422), ('straightened', 2423), ('expression', 2424), ('bursting', 2425), ('provoking', 2426), ('act', 2427), ('crawling', 2428), ('ridge', 2429), ('furrow', 2430), ('send', 2431), ('doubled', 2432), ('parts', 2433), ('played', 2434), ('fighting', 2435), ('furious', 2436), ('uneasy', 2437), ('beheading', 2438), ('appearance', 2439), ('nodded', 2440), ('account', 2441), ('someone', 2442), ('fairly', 2443), ('complaining', 2444), ('quarrel', 2445), ('oneself', 2446), ('attends', 2447), ('arch', 2448), ('croqueted', 2449), ('win', 2450), ('finishing', 2451), ('‘allow', 2452), ('‘however', 2453), ('kiss', 2454), ('likes', 2455), ('impertinent', 2456), ('passing', 2457), ('settling', 2458), ('difficulties', 2459), ('screaming', 2460), ('search', 2461), ('engaged', 2462), ('croqueting', 2463), ('helpless', 2464), ('appealed', 2465), ('settle', 2466), ('arguments', 2467), ('executioner’s', 2468), ('unless', 2469), ('weren’t', 2470), ('she’d', 2471), ('prison', 2472), ('arrow', 2473), ('fading', 2474), ('ix', 2475), ('affectionately', 2476), ('pleasant', 2477), ('hopeful', 2478), ('vinegar', 2479), ('sour', 2480), ('camomile', 2481), ('bitter', 2482), ('barley', 2483), ('sweet', 2484), ('stingy', 2485), ('‘tut', 2486), ('tut', 2487), ('‘everything’s', 2488), ('squeezed', 2489), ('closer', 2490), ('uncomfortably', 2491), ('bore', 2492), ('game’s', 2493), ('“oh', 2494), ('‘somebody', 2495), ('minding', 2496), ('“take', 2497), ('morals', 2498), ('waist', 2499), ('‘flamingoes', 2500), ('“birds', 2501), ('feather', 2502), ('flock', 2503), ('‘right', 2504), ('mineral', 2505), ('“the', 2506), ('attended', 2507), ('vegetable', 2508), ('“be', 2509), ('be”', 2510), ('“never', 2511), ('‘pray', 2512), ('cheap', 2513), ('birthday', 2514), ('‘thinking', 2515), ('dig', 2516), ('worried', 2517), ('died', 2518), ('favourite', 2519), ('‘moral', 2520), ('linked', 2521), ('tremble', 2522), ('thunderstorm', 2523), ('fair', 2524), ('warning', 2525), ('‘either', 2526), ('absence', 2527), ('shade', 2528), ('delay', 2529), ('cost', 2530), ('whom', 2531), ('sentenced', 2532), ('company', 2533), ('pardoned', 2534), ('picture', 2535), ('‘up', 2536), ('lazy', 2537), ('ordered’', 2538), ('leaving', 2539), ('rubbed', 2540), ('chuckled', 2541), ('executes', 2542), ('ledge', 2543), ('rock', 2544), ('pitied', 2545), ('hollow', 2546), ('occasional', 2547), ('exclamation', 2548), ('‘hjckrrh', 2549), ('calmly', 2550), ('sink', 2551), ('‘drive', 2552), ('mayn’t', 2553), ('educations', 2554), ('‘with', 2555), ('extras', 2556), ('learned', 2557), ('‘certainly', 2558), ('ours', 2559), ('“french', 2560), ('extra', 2561), ('‘living', 2562), ('afford', 2563), ('inquired', 2564), ('‘reeling', 2565), ('writhing', 2566), ('arithmetic', 2567), ('ambition', 2568), ('distraction', 2569), ('uglification', 2570), ('derision', 2571), ('“uglification', 2572), ('lifted', 2573), ('uglifying', 2574), ('beautify', 2575), ('prettier', 2576), ('uglify', 2577), ('simpleton', 2578), ('encouraged', 2579), ('counting', 2580), ('subjects', 2581), ('flappers', 2582), ('ancient', 2583), ('modern', 2584), ('seaography', 2585), ('conger', 2586), ('fainting', 2587), ('coils', 2588), ('stiff', 2589), ('‘hadn’t', 2590), ('classics', 2591), ('grief', 2592), ('hid', 2593), ('‘ten', 2594), ('‘nine', 2595), ('lessen', 2596), ('eleventh', 2597), ('holiday', 2598), ('twelfth', 2599), ('games', 2600), ('x', 2601), ('flapper', 2602), ('‘same', 2603), ('bone', 2604), ('punching', 2605), ('cheeks', 2606), ('introduced', 2607), ('never’', 2608), ('form', 2609), ('lines', 2610), ('‘seals', 2611), ('salmon', 2612), ('cleared', 2613), ('jelly', 2614), ('‘each', 2615), ('partner', 2616), ('‘advance', 2617), ('partners', 2618), ('retire', 2619), ('bound', 2620), ('‘swim', 2621), ('capering', 2622), ('‘change', 2623), ('yelled', 2624), ('‘back', 2625), ('land', 2626), ('dropping', 2627), ('pretty', 2628), ('forepaws', 2629), ('‘“will', 2630), ('“there’s', 2631), ('he’s', 2632), ('shingle', 2633), ('“too', 2634), ('askance', 2635), ('thanked', 2636), ('‘“what', 2637), ('scaly', 2638), ('england', 2639), ('france', 2640), ('beloved', 2641), ('‘crumbs', 2642), ('thrown', 2643), ('shiny', 2644), ('blacking', 2645), ('‘boots', 2646), ('‘soles', 2647), ('eels', 2648), ('‘any', 2649), ('shrimp', 2650), ('“keep', 2651), ('anywhere', 2652), ('‘wouldn’t', 2653), ('journey', 2654), ('“with', 2655), ('“purpose”', 2656), ('impatient', 2657), ('‘explanations', 2658), ('gained', 2659), ('listeners', 2660), ('‘stand', 2661), ('“‘tis', 2662), ('sluggard', 2663), ('baked', 2664), ('eyelids', 2665), ('trims', 2666), ('belt', 2667), ('buttons', 2668), ('sands', 2669), ('gay', 2670), ('lark', 2671), ('contemptuous', 2672), ('shark', 2673), ('tide', 2674), ('rises', 2675), ('sharks', 2676), ('tremulous', 2677), ('uncommon', 2678), ('explained', 2679), ('disobey', 2680), ('sharing', 2681), ('crust', 2682), ('gravy', 2683), ('meat', 2684), ('share', 2685), ('treat', 2686), ('boon', 2687), ('permitted', 2688), ('received', 2689), ('fork', 2690), ('banquet', 2691), ('‘hm', 2692), ('accounting', 2693), ('tastes', 2694), ('“turtle', 2695), ('rich', 2696), ('tureen', 2697), ('dainties', 2698), ('beauti', 2699), ('ful', 2700), ('‘chorus', 2701), ('panted', 2702), ('faintly', 2703), ('breeze', 2704), ('‘soo', 2705), ('xi', 2706), ('seated', 2707), ('throne', 2708), ('arrived', 2709), ('standing', 2710), ('chains', 2711), ('soldier', 2712), ('guard', 2713), ('refreshments', 2714), ('pass', 2715), ('justice', 2716), ('wore', 2717), ('frontispiece', 2718), ('comfortable', 2719), ('becoming', 2720), ('‘creatures', 2721), ('rightly', 2722), ('‘jury', 2723), ('men’', 2724), ('indignant', 2725), ('spell', 2726), ('neighbour', 2727), ('muddle', 2728), ('slates’ll', 2729), ('squeaked', 2730), ('juror', 2731), ('‘herald', 2732), ('accusation', 2733), ('‘first', 2734), ('‘fourteenth', 2735), ('‘fifteenth', 2736), ('‘sixteenth', 2737), ('‘write', 2738), ('dates', 2739), ('reduced', 2740), ('shillings', 2741), ('pence', 2742), ('hat', 2743), ('‘stolen', 2744), ('memorandum', 2745), ('fidgeted', 2746), ('spot', 2747), ('encourage', 2748), ('shifting', 2749), ('remain', 2750), ('squeeze', 2751), ('‘you’ve', 2752), ('boldly', 2753), ('reasonable', 2754), ('pace', 2755), ('ridiculous', 2756), ('‘bring', 2757), ('thin', 2758), ('t', 2759), ('dunce', 2760), ('twinkled', 2761), ('denies', 2762), ('speaker', 2763), ('canvas', 2764), ('bag', 2765), ('tied', 2766), ('strings', 2767), ('newspapers', 2768), ('trials', 2769), ('attempts', 2770), ('applause', 2771), ('understood', 2772), ('lower', 2773), ('officer', 2774), ('‘shan’t', 2775), ('folding', 2776), ('‘pepper', 2777), ('‘collar', 2778), ('shrieked', 2779), ('‘behead', 2780), ('suppress', 2781), ('ache', 2782), ('fumbled', 2783), ('‘alice', 2784), ('xii', 2785), ('flurry', 2786), ('tipped', 2787), ('skirt', 2788), ('upsetting', 2789), ('sprawling', 2790), ('reminding', 2791), ('globe', 2792), ('accidentally', 2793), ('dismay', 2794), ('vague', 2795), ('die', 2796), ('cannot', 2797), ('‘until', 2798), ('emphasis', 2799), ('haste', 2800), ('downwards', 2801), ('unable', 2802), ('signifies', 2803), ('shock', 2804), ('pencils', 2805), ('diligently', 2806), ('overcome', 2807), ('gazing', 2808), ('respectful', 2809), ('cackled', 2810), ('‘rule', 2811), ('forty', 2812), ('persons', 2813), ('‘nearly', 2814), ('‘besides', 2815), ('invented', 2816), ('oldest', 2817), ('prisoner', 2818), ('‘unless', 2819), ('prisoner’s', 2820), ('handwriting', 2821), ('queerest', 2822), ('imitated', 2823), ('else’s', 2824), ('prove', 2825), ('sign', 2826), ('mischief', 2827), ('honest', 2828), ('clapping', 2829), ('guilt', 2830), ('‘read', 2831), ('‘where', 2832), ('‘begin', 2833), ('character', 2834), ('push', 2835), ('involved', 2836), ('affair', 2837), ('trusts', 2838), ('obstacle', 2839), ('ourselves', 2840), ('secret', 2841), ('sixpence', 2842), ('attempted', 2843), ('saves', 2844), ('spreading', 2845), ('“', 2846), ('cardboard', 2847), ('‘“we', 2848), ('“they', 2849), ('clearer', 2850), ('“before', 2851), ('fits', 2852), ('furiously', 2853), ('inkstand', 2854), ('ink', 2855), ('trickling', 2856), ('pun', 2857), ('consider', 2858), ('twentieth', 2859), ('‘sentence', 2860), ('‘stuff', 2861), ('purple', 2862), ('flying', 2863), ('brushing', 2864), ('fluttered', 2865), ('kissed', 2866), ('setting', 2867), ('dreaming', 2868), ('dreamed', 2869), ('clasped', 2870), ('toss', 2871), ('listened', 2872), ('sister’s', 2873), ('rustled', 2874), ('splashed', 2875), ('neighbouring', 2876), ('rattle', 2877), ('shared', 2878), ('meal', 2879), ('crashed', 2880), ('lizard’s', 2881), ('choking', 2882), ('believed', 2883), ('reality', 2884), ('rustling', 2885), ('rippling', 2886), ('reeds', 2887), ('tinkling', 2888), ('sheep', 2889), ('bells', 2890), ('cries', 2891), ('shepherd', 2892), ('noises', 2893), ('clamour', 2894), ('farm', 2895), ('yard', 2896), ('lowing', 2897), ('cattle', 2898), ('lastly', 2899), ('pictured', 2900), ('riper', 2901), ('years', 2902), ('loving', 2903), ('childhood', 2904), ('gather', 2905), ('sorrows', 2906), ('joys', 2907), ('remembering', 2908), ('happy', 2909)])"
      ]
     },
     "execution_count": 48,
     "metadata": {},
     "output_type": "execute_result"
    }
   ],
   "source": [
    "# Try out different hyperparameter & model architecture\n",
    "tokenizer.word_index.items()"
   ]
  },
  {
   "cell_type": "markdown",
   "metadata": {},
   "source": [
    "#### 7. Help your model to generate a short story \n",
    "\n",
    "**Example** https://medium.com/deep-writing/harry-potter-written-by-artificial-intelligence-8a9431803da6\n",
    "\n",
    "Write your result in a `markdown` cell"
   ]
  },
  {
   "cell_type": "code",
   "execution_count": 6,
   "metadata": {},
   "outputs": [],
   "source": [
    "# Create your short-story from your model (Add your creativity here)"
   ]
  },
  {
   "cell_type": "markdown",
   "metadata": {},
   "source": [
    "### More on Natural language Processing and Language model\n",
    "1. https://medium.com/@ageitgey/natural-language-processing-is-fun-9a0bff37854e \n",
    "2. https://medium.com/phrasee/neural-text-generation-generating-text-using-conditional-language-models-a37b69c7cd4b\n",
    "3. http://karpathy.github.io/2015/05/21/rnn-effectiveness/\n",
    "\n",
    "**Music generates by RNN**\n",
    "https://soundcloud.com/optometrist-prime/recurrence-music-written-by-a-recurrent-neural-network\n"
   ]
  },
  {
   "cell_type": "markdown",
   "metadata": {},
   "source": [
    "### References\n",
    "\n",
    "[1] https://machinelearningmastery.com/how-to-develop-a-word-level-neural-language-model-in-keras/ </br>\n",
    "[2] **Pre padding** https://stackoverflow.com/questions/46298793/how-does-choosing-between-pre-and-post-zero-padding-of-sequences-impact-results"
   ]
  },
  {
   "cell_type": "code",
   "execution_count": null,
   "metadata": {},
   "outputs": [],
   "source": []
  }
 ],
 "metadata": {
  "kernelspec": {
   "display_name": "Python 3",
   "language": "python",
   "name": "python3"
  },
  "language_info": {
   "codemirror_mode": {
    "name": "ipython",
    "version": 3
   },
   "file_extension": ".py",
   "mimetype": "text/x-python",
   "name": "python",
   "nbconvert_exporter": "python",
   "pygments_lexer": "ipython3",
   "version": "3.6.6"
  }
 },
 "nbformat": 4,
 "nbformat_minor": 2
}
